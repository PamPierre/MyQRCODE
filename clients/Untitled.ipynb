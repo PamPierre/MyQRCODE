{
 "cells": [
  {
   "cell_type": "code",
   "execution_count": null,
   "id": "38485d3c-f47b-4639-bd0b-ef72a1eb7fe7",
   "metadata": {},
   "outputs": [],
   "source": []
  },
  {
   "cell_type": "code",
   "execution_count": 1,
   "id": "21c84eab-a7f6-4e60-8cc1-a51329d7acd7",
   "metadata": {},
   "outputs": [
    {
     "name": "stdin",
     "output_type": "stream",
     "text": [
      "Entrez le texte ou le lien pour le QR Code :  test logo\n"
     ]
    },
    {
     "name": "stderr",
     "output_type": "stream",
     "text": [
      "/tmp/ipykernel_165101/678170604.py:32: DeprecationWarning: ANTIALIAS is deprecated and will be removed in Pillow 10 (2023-07-01). Use LANCZOS or Resampling.LANCZOS instead.\n",
      "  logo = logo.resize((basewidth, hsize), Image.ANTIALIAS)\n"
     ]
    },
    {
     "ename": "ValueError",
     "evalue": "bad transparency mask",
     "output_type": "error",
     "traceback": [
      "\u001b[0;31m---------------------------------------------------------------------------\u001b[0m",
      "\u001b[0;31mValueError\u001b[0m                                Traceback (most recent call last)",
      "Cell \u001b[0;32mIn[1], line 50\u001b[0m\n\u001b[1;32m     47\u001b[0m root\u001b[38;5;241m.\u001b[39mwithdraw()  \u001b[38;5;66;03m# Cacher la fenêtre principale\u001b[39;00m\n\u001b[1;32m     49\u001b[0m \u001b[38;5;66;03m# Lancement de la fonction\u001b[39;00m\n\u001b[0;32m---> 50\u001b[0m generate_qr_with_logo()\n\u001b[1;32m     52\u001b[0m root\u001b[38;5;241m.\u001b[39mmainloop()\n",
      "Cell \u001b[0;32mIn[1], line 39\u001b[0m, in \u001b[0;36mgenerate_qr_with_logo\u001b[0;34m()\u001b[0m\n\u001b[1;32m     36\u001b[0m     logo_position \u001b[38;5;241m=\u001b[39m ((qr_width \u001b[38;5;241m-\u001b[39m basewidth) \u001b[38;5;241m/\u001b[39m\u001b[38;5;241m/\u001b[39m \u001b[38;5;241m2\u001b[39m, (qr_height \u001b[38;5;241m-\u001b[39m hsize) \u001b[38;5;241m/\u001b[39m\u001b[38;5;241m/\u001b[39m \u001b[38;5;241m2\u001b[39m)\n\u001b[1;32m     38\u001b[0m     \u001b[38;5;66;03m# Coller le logo sur le QR code\u001b[39;00m\n\u001b[0;32m---> 39\u001b[0m     qr_img\u001b[38;5;241m.\u001b[39mpaste(logo, logo_position, mask\u001b[38;5;241m=\u001b[39mlogo)\n\u001b[1;32m     41\u001b[0m \u001b[38;5;66;03m# Sauvegarde de l'image finale\u001b[39;00m\n\u001b[1;32m     42\u001b[0m qr_img\u001b[38;5;241m.\u001b[39msave(\u001b[38;5;124m\"\u001b[39m\u001b[38;5;124mqr_code_with_logo.png\u001b[39m\u001b[38;5;124m\"\u001b[39m)\n",
      "File \u001b[0;32m~/anaconda3/lib/python3.12/site-packages/PIL/Image.py:1732\u001b[0m, in \u001b[0;36mImage.paste\u001b[0;34m(self, im, box, mask)\u001b[0m\n\u001b[1;32m   1730\u001b[0m \u001b[38;5;28;01mif\u001b[39;00m mask:\n\u001b[1;32m   1731\u001b[0m     mask\u001b[38;5;241m.\u001b[39mload()\n\u001b[0;32m-> 1732\u001b[0m     \u001b[38;5;28mself\u001b[39m\u001b[38;5;241m.\u001b[39mim\u001b[38;5;241m.\u001b[39mpaste(im, box, mask\u001b[38;5;241m.\u001b[39mim)\n\u001b[1;32m   1733\u001b[0m \u001b[38;5;28;01melse\u001b[39;00m:\n\u001b[1;32m   1734\u001b[0m     \u001b[38;5;28mself\u001b[39m\u001b[38;5;241m.\u001b[39mim\u001b[38;5;241m.\u001b[39mpaste(im, box)\n",
      "\u001b[0;31mValueError\u001b[0m: bad transparency mask"
     ]
    }
   ],
   "source": [
    "import qrcode\n",
    "from tkinter import Tk, Label, Button, filedialog\n",
    "from PIL import Image, ImageTk\n",
    "\n",
    "# Fonction pour générer le QR code avec logo\n",
    "def generate_qr_with_logo():\n",
    "    # Demande de texte à encoder dans le QR code\n",
    "    qr_text = input(\"Entrez le texte ou le lien pour le QR Code : \")\n",
    "\n",
    "    # Création du QR code\n",
    "    qr = qrcode.QRCode(\n",
    "        version=1,\n",
    "        error_correction=qrcode.constants.ERROR_CORRECT_H,\n",
    "        box_size=10,\n",
    "        border=4,\n",
    "    )\n",
    "    qr.add_data(qr_text)\n",
    "    qr.make(fit=True)\n",
    "\n",
    "    # Génération de l'image du QR code\n",
    "    qr_img = qr.make_image(fill='black', back_color='white').convert('RGB')\n",
    "\n",
    "    # Demander à l'utilisateur de choisir un logo\n",
    "    logo_path = filedialog.askopenfilename(title=\"Choisissez un logo\", filetypes=[(\"Images\", \"*.png;*.jpg;*.jpeg\")])\n",
    "\n",
    "    if logo_path:\n",
    "        logo = Image.open(logo_path)\n",
    "        # Redimensionner le logo pour qu'il tienne dans le QR code\n",
    "        basewidth = 80  # taille du logo\n",
    "        wpercent = (basewidth / float(logo.size[0]))\n",
    "        hsize = int((float(logo.size[1]) * float(wpercent)))\n",
    "        logo = logo.resize((basewidth, hsize), Image.ANTIALIAS)\n",
    "\n",
    "        # Calculer la position pour placer le logo au centre\n",
    "        qr_width, qr_height = qr_img.size\n",
    "        logo_position = ((qr_width - basewidth) // 2, (qr_height - hsize) // 2)\n",
    "\n",
    "        # Coller le logo sur le QR code\n",
    "        qr_img.paste(logo, logo_position, mask=logo)\n",
    "\n",
    "    # Sauvegarde de l'image finale\n",
    "    qr_img.save(\"qr_code_with_logo.png\")\n",
    "    print(\"QR Code avec logo généré et sauvegardé sous 'qr_code_with_logo.png'\")\n",
    "\n",
    "# Interface Tkinter pour permettre à l'utilisateur de choisir un logo\n",
    "root = Tk()\n",
    "root.withdraw()  # Cacher la fenêtre principale\n",
    "\n",
    "# Lancement de la fonction\n",
    "generate_qr_with_logo()\n",
    "\n",
    "root.mainloop()\n"
   ]
  },
  {
   "cell_type": "code",
   "execution_count": 4,
   "id": "9794f5f2-4b8a-444d-825d-848b022190dc",
   "metadata": {},
   "outputs": [
    {
     "name": "stdin",
     "output_type": "stream",
     "text": [
      "Entrez le texte ou le lien pour le QR Code :  test\n"
     ]
    },
    {
     "name": "stderr",
     "output_type": "stream",
     "text": [
      "/tmp/ipykernel_165101/3331605857.py:35: DeprecationWarning: ANTIALIAS is deprecated and will be removed in Pillow 10 (2023-07-01). Use LANCZOS or Resampling.LANCZOS instead.\n",
      "  logo = logo.resize((basewidth, hsize), Image.ANTIALIAS)\n"
     ]
    }
   ],
   "source": [
    "import qrcode\n",
    "from tkinter import Tk, filedialog, messagebox\n",
    "from PIL import Image\n",
    "\n",
    "# Fonction pour générer le QR code avec logo\n",
    "def generate_qr_with_logo():\n",
    "    # Demande de texte à encoder dans le QR code\n",
    "    qr_text = input(\"Entrez le texte ou le lien pour le QR Code : \")\n",
    "\n",
    "    # Création du QR code\n",
    "    qr = qrcode.QRCode(\n",
    "        version=1,\n",
    "        error_correction=qrcode.constants.ERROR_CORRECT_H,\n",
    "        box_size=10,\n",
    "        border=4,\n",
    "    )\n",
    "    qr.add_data(qr_text)\n",
    "    qr.make(fit=True)\n",
    "\n",
    "    # Génération de l'image du QR code\n",
    "    qr_img = qr.make_image(fill='black', back_color='white').convert('RGB')\n",
    "\n",
    "    # Ouvrir une boîte de dialogue pour sélectionner le logo\n",
    "    #logo_path = filedialog.askopenfilename(title=\"Choisissez un logo\", filetypes=[(\"Images\", \"*.png;*.jpg;*.jpeg\")])\n",
    "    logo_path = \"logo.jpg\"\n",
    "    if logo_path:\n",
    "        try:\n",
    "            # Charger le logo sélectionné\n",
    "            logo = Image.open(logo_path)\n",
    "            \n",
    "            # Redimensionner le logo pour qu'il tienne dans le QR code\n",
    "            basewidth = 80  # taille du logo\n",
    "            wpercent = (basewidth / float(logo.size[0]))\n",
    "            hsize = int((float(logo.size[1]) * float(wpercent)))\n",
    "            logo = logo.resize((basewidth, hsize), Image.ANTIALIAS)\n",
    "\n",
    "            # Calculer la position pour placer le logo au centre\n",
    "            qr_width, qr_height = qr_img.size\n",
    "            logo_position = ((qr_width - basewidth) // 2, (qr_height - hsize) // 2)\n",
    "\n",
    "            # Coller le logo sur le QR code\n",
    "            qr_img.paste(logo, logo_position, mask=logo)\n",
    "\n",
    "        except Exception as e:\n",
    "            messagebox.showerror(\"Erreur\", f\"Impossible de charger le logo : {e}\")\n",
    "            return\n",
    "\n",
    "    # Sauvegarde de l'image finale avec QR code et logo\n",
    "    qr_img.save(\"qr_code_with_logo.png\")\n",
    "    messagebox.showinfo(\"Succès\", \"QR Code avec logo généré et sauvegardé sous 'qr_code_with_logo.png'\")\n",
    "\n",
    "# Initialisation de l'interface Tkinter pour l'ouverture de boîte de dialogue\n",
    "root = Tk()\n",
    "root.withdraw()  # Cacher la fenêtre principale Tkinter\n",
    "\n",
    "# Lancement de la fonction pour générer le QR code avec logo\n",
    "generate_qr_with_logo()\n",
    "\n",
    "# Fermer Tkinter\n",
    "root.quit()\n"
   ]
  },
  {
   "cell_type": "code",
   "execution_count": null,
   "id": "7d906387-d0b7-4523-b1c1-edb8a44e1299",
   "metadata": {},
   "outputs": [],
   "source": []
  }
 ],
 "metadata": {
  "kernelspec": {
   "display_name": "Python 3 (ipykernel)",
   "language": "python",
   "name": "python3"
  },
  "language_info": {
   "codemirror_mode": {
    "name": "ipython",
    "version": 3
   },
   "file_extension": ".py",
   "mimetype": "text/x-python",
   "name": "python",
   "nbconvert_exporter": "python",
   "pygments_lexer": "ipython3",
   "version": "3.12.4"
  }
 },
 "nbformat": 4,
 "nbformat_minor": 5
}
