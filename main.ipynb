{
 "cells": [
  {
   "cell_type": "code",
   "execution_count": 1,
   "id": "370b0e40-d1b6-429e-8080-2bc98610f3b9",
   "metadata": {},
   "outputs": [],
   "source": [
    "import qrcode\n"
   ]
  },
  {
   "cell_type": "code",
   "execution_count": 11,
   "id": "30b738a4-8c76-4239-b78f-00a4780e7822",
   "metadata": {},
   "outputs": [
    {
     "name": "stdout",
     "output_type": "stream",
     "text": [
      "Collecting Pillow==9.5.0\n",
      "  Downloading Pillow-9.5.0.tar.gz (50.5 MB)\n",
      "\u001b[2K     \u001b[38;2;114;156;31m━━━━━━━━━━━━━━━━━━━━━━━━━━━━━━━━━━━━━━━━\u001b[0m \u001b[32m50.5/50.5 MB\u001b[0m \u001b[31m27.3 MB/s\u001b[0m eta \u001b[36m0:00:00\u001b[0mm eta \u001b[36m0:00:01\u001b[0m[36m0:00:01\u001b[0m\n",
      "\u001b[?25h  Preparing metadata (setup.py) ... \u001b[?25ldone\n",
      "\u001b[?25hBuilding wheels for collected packages: Pillow\n",
      "  Building wheel for Pillow (setup.py) ... \u001b[?25ldone\n",
      "\u001b[?25h  Created wheel for Pillow: filename=Pillow-9.5.0-cp312-cp312-linux_x86_64.whl size=582708 sha256=8f82d5f4fb8b7e031b9cdbf11840ebcbc0272e0eb14e5a60b8163bc63c04d4c8\n",
      "  Stored in directory: /home/pamousso/.cache/pip/wheels/ea/de/2e/75a6399e5d8cd3a55c13c8f0658d996d4ce4cff37389de044c\n",
      "Successfully built Pillow\n",
      "Installing collected packages: Pillow\n",
      "  Attempting uninstall: Pillow\n",
      "    Found existing installation: pillow 10.3.0\n",
      "    Uninstalling pillow-10.3.0:\n",
      "      Successfully uninstalled pillow-10.3.0\n",
      "Successfully installed Pillow-9.5.0\n"
     ]
    }
   ],
   "source": [
    "!pip install Pillow==9.5.0"
   ]
  },
  {
   "cell_type": "code",
   "execution_count": 2,
   "id": "369571d6-d56a-4262-a061-8564b9481bec",
   "metadata": {},
   "outputs": [],
   "source": [
    "qr = qrcode.QRCode(\n",
    "    version=1,\n",
    "    error_correction=qrcode.constants.ERROR_CORRECT_L,\n",
    "    box_size=10,\n",
    "    border=4,\n",
    ")\n",
    "img = qrcode.make('https://africadataentry.com/wp-content/uploads/2024/10/WhatsApp-Image-2024-10-14-at-11.00.31-AM.jpeg')"
   ]
  },
  {
   "cell_type": "code",
   "execution_count": 3,
   "id": "83e70e8a-a5d6-4995-886c-f005590b9da2",
   "metadata": {},
   "outputs": [],
   "source": [
    "img.save(\"menu.png\")"
   ]
  },
  {
   "cell_type": "code",
   "execution_count": 10,
   "id": "d8eb7018-c498-4446-acdd-28de0fb1b037",
   "metadata": {},
   "outputs": [
    {
     "name": "stdout",
     "output_type": "stream",
     "text": [
      "Requirement already satisfied: pillow in /home/pamousso/anaconda3/lib/python3.12/site-packages (10.3.0)\n",
      "\u001b[31mERROR: Could not find a version that satisfies the requirement tkinter (from versions: none)\u001b[0m\u001b[31m\n",
      "\u001b[0m\u001b[31mERROR: No matching distribution found for tkinter\u001b[0m\u001b[31m\n",
      "\u001b[0m"
     ]
    }
   ],
   "source": [
    "!pip install qrcode[pil] pillow tkinter"
   ]
  },
  {
   "cell_type": "code",
   "execution_count": 5,
   "id": "475fd546-24b8-4e46-bfa1-b5bd32add6c0",
   "metadata": {},
   "outputs": [],
   "source": [
    "from PIL import Image\n",
    "Logo_link =\"clients/logo.jpg\"\n",
    "logo = Image.open(Logo_link)\n"
   ]
  },
  {
   "cell_type": "code",
   "execution_count": 4,
   "id": "23d11ff7-8271-4f7b-af75-333ea3ce823f",
   "metadata": {},
   "outputs": [
    {
     "name": "stdout",
     "output_type": "stream",
     "text": [
      "Collecting pypng\n",
      "  Downloading pypng-0.20220715.0-py3-none-any.whl.metadata (13 kB)\n",
      "Downloading pypng-0.20220715.0-py3-none-any.whl (58 kB)\n",
      "\u001b[2K   \u001b[38;2;114;156;31m━━━━━━━━━━━━━━━━━━━━━━━━━━━━━━━━━━━━━━━━\u001b[0m \u001b[32m58.1/58.1 kB\u001b[0m \u001b[31m3.1 MB/s\u001b[0m eta \u001b[36m0:00:00\u001b[0m\n",
      "\u001b[?25hInstalling collected packages: pypng\n",
      "Successfully installed pypng-0.20220715.0\n"
     ]
    }
   ],
   "source": [
    "!pip install pypng"
   ]
  },
  {
   "cell_type": "code",
   "execution_count": 13,
   "id": "ef152bb9-e211-4177-81ad-b325cf96ca34",
   "metadata": {},
   "outputs": [],
   "source": [
    "# set size of QR code\n",
    "# adding URL or text to QRcode\n",
    "QRcode.add_data(\"tests\")\n",
    "\n",
    "# generating QR code\n",
    "QRcode.make()\n",
    "\n",
    "\n",
    "\n",
    "QRcode = qrcode.QRCode(\n",
    " error_correction=qrcode.constants.ERROR_CORRECT_H\n",
    " )\n",
    "QRimg = QRcode.make_image()\n",
    "pos = ((QRimg.size[0] - logo.size[0]) // 2, (QRimg.size[1] - logo.size[1]) // 2)\n",
    "QRimg.paste(logo, pos)\n",
    "\n",
    "# save the QR code generated\n",
    "#QRimg.save('gfg_QR_bis.png')"
   ]
  },
  {
   "cell_type": "code",
   "execution_count": 14,
   "id": "8492a3a8-6dfa-4a97-9634-f74190cc91bf",
   "metadata": {},
   "outputs": [],
   "source": [
    "QRimg.save('gfg_QR_bis.png')"
   ]
  },
  {
   "cell_type": "code",
   "execution_count": 1,
   "id": "f0453700-685e-43b8-8dcd-01be9873232a",
   "metadata": {},
   "outputs": [],
   "source": [
    "import pyqrcode\n",
    "from PIL import Image\n",
    "url = pyqrcode.QRCode('http://www.eqxiu.com',error = 'H')\n"
   ]
  },
  {
   "cell_type": "code",
   "execution_count": 11,
   "id": "6d30234f-0e8a-4710-a272-2c31544d345c",
   "metadata": {},
   "outputs": [],
   "source": [
    "url.png('clients/logo.jpg',scale=10)\n",
    "#im = Image.open('clients/qr_code_with_logo.png')\n",
    "im = im.convert(\"RGBA\")\n",
    "logo = Image.open('clients/test.png')\n",
    "box = (100,100,200,200)\n",
    "im.crop(box)\n",
    "region = logo\n",
    "#region = region.resize((box[2] - box[0], box[3] - box[1]))\n",
    "region = region.resize((box[2] - box[0], box[3] - box[1]))\n",
    "\n",
    "im.paste(region,box)\n",
    "im.show()"
   ]
  },
  {
   "cell_type": "code",
   "execution_count": 17,
   "id": "a0ab4834-57eb-40d5-9358-c9c5534aafe6",
   "metadata": {},
   "outputs": [],
   "source": [
    "import qrcode\n",
    "from qrcode.image.styledpil import StyledPilImage\n",
    "from qrcode.image.styles.moduledrawers.pil import RoundedModuleDrawer\n",
    "from qrcode.image.styles.colormasks import RadialGradiantColorMask\n",
    "\n",
    "qr = qrcode.QRCode(error_correction=qrcode.constants.ERROR_CORRECT_H)\n",
    "qr.add_data('https://africadataentry.com/wp-content/uploads/2024/10/WhatsApp-Image-2024-10-14-at-11.00.31-AM.jpeg')\n",
    "\n",
    "img_1 = qr.make_image(image_factory=StyledPilImage, module_drawer=RoundedModuleDrawer())\n",
    "img_2 = qr.make_image(image_factory=StyledPilImage, color_mask=RadialGradiantColorMask())\n",
    "img_3 = qr.make_image(image_factory=StyledPilImage, embeded_image_path=\"clients/Logo .Africa data entry 04ai.jpg\")"
   ]
  },
  {
   "cell_type": "code",
   "execution_count": 18,
   "id": "1e07ca07-c737-4fe3-a104-6ff55d69154c",
   "metadata": {},
   "outputs": [
    {
     "name": "stderr",
     "output_type": "stream",
     "text": [
      "\n",
      "(eog:168115): EOG-WARNING **: 19:18:51.818: Generating thumbnail failed: Child process exited with code 1\n",
      "\n",
      "(eog:168115): GLib-GObject-CRITICAL **: 19:18:51.818: g_object_unref: assertion 'G_IS_OBJECT (object)' failed\n",
      "\n",
      "(eog:168115): EOG-WARNING **: 19:18:51.818: Error when getting information for file “/tmp/imageio16517964785709916247.tmp”: No such file or directory\n",
      "\n",
      "(eog:168115): EOG-WARNING **: 19:20:47.422: Generating thumbnail failed: Child process exited with code 1\n",
      "\n",
      "(eog:168115): GLib-GObject-CRITICAL **: 19:20:47.422: g_object_unref: assertion 'G_IS_OBJECT (object)' failed\n",
      "\n",
      "(eog:168115): EOG-WARNING **: 19:20:47.422: Error when getting information for file “/tmp/imageio7170387271271447477.tmp”: No such file or directory\n",
      "\n",
      "(eog:168115): GLib-CRITICAL **: 19:47:03.742: g_atomic_ref_count_dec: assertion 'old_value > 0' failed\n",
      "\n",
      "(eog:168115): GLib-CRITICAL **: 19:47:03.742: g_atomic_ref_count_dec: assertion 'old_value > 0' failed\n",
      "\n",
      "(eog:168115): GLib-CRITICAL **: 23:22:44.009: g_atomic_ref_count_dec: assertion 'old_value > 0' failed\n",
      "\n",
      "(eog:168115): GLib-CRITICAL **: 23:22:44.012: g_atomic_ref_count_dec: assertion 'old_value > 0' failed\n"
     ]
    }
   ],
   "source": [
    "img_3.show()"
   ]
  },
  {
   "cell_type": "code",
   "execution_count": null,
   "id": "0537eaa4-0c07-4799-9e72-77c2ee06cae0",
   "metadata": {},
   "outputs": [],
   "source": []
  }
 ],
 "metadata": {
  "kernelspec": {
   "display_name": "Python 3 (ipykernel)",
   "language": "python",
   "name": "python3"
  },
  "language_info": {
   "codemirror_mode": {
    "name": "ipython",
    "version": 3
   },
   "file_extension": ".py",
   "mimetype": "text/x-python",
   "name": "python",
   "nbconvert_exporter": "python",
   "pygments_lexer": "ipython3",
   "version": "3.12.4"
  }
 },
 "nbformat": 4,
 "nbformat_minor": 5
}
