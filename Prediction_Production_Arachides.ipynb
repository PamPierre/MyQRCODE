{
  "nbformat": 4,
  "nbformat_minor": 0,
  "metadata": {
    "colab": {
      "provenance": [],
      "authorship_tag": "ABX9TyM1xzsYym4lNZ0tzuXvoZdx",
      "include_colab_link": true
    },
    "kernelspec": {
      "name": "python3",
      "display_name": "Python 3"
    },
    "language_info": {
      "name": "python"
    }
  },
  "cells": [
    {
      "cell_type": "markdown",
      "metadata": {
        "id": "view-in-github",
        "colab_type": "text"
      },
      "source": [
        "<a href=\"https://colab.research.google.com/github/PamPierre/MyQRCODE/blob/main/Prediction_Production_Arachides.ipynb\" target=\"_parent\"><img src=\"https://colab.research.google.com/assets/colab-badge.svg\" alt=\"Open In Colab\"/></a>"
      ]
    },
    {
      "cell_type": "markdown",
      "source": [
        "# Analyse Prédictive de la Production d'Arachides au Burkina Faso : Une Approche par Régression Linéaire Multiple\n",
        "\n",
        "## Résumé\n",
        "\n",
        "Cette étude propose une analyse prédictive de la production d'arachides au Sénégal pour l'année 2023, basée sur des données historiques couvrant la période 1996-2022. Utilisant une approche par régression linéaire multiple, l'étude examine l'influence de la superficie cultivée et de la pluviométrie sur la production. Les résultats suggèrent une production estimée à 437,858 tonnes pour 2023, avec un modèle expliquant 80% de la variance observée.\n",
        "\n",
        "## 1. Introduction\n",
        "\n",
        "L'arachide représente une culture stratégique pour l'économie agricole du Burkina. La prédiction précise de sa production constitue un enjeu majeur pour la planification agricole et la sécurité alimentaire. Cette étude vise à développer un modèle prédictif robuste basé sur les données historiques disponibles.\n",
        "\n",
        "## 2. Méthodologie\n",
        "\n",
        "### 2.1 Données\n",
        "\n",
        "L'étude utilise une série temporelle de 27 ans (1996-2022) comprenant :\n",
        "- La production annuelle d'arachides (tonnes)\n",
        "- La superficie cultivée (hectares)\n",
        "- La pluviométrie annuelle (millimètres)\n",
        "\n",
        "### 2.2 Modèle Statistique\n",
        "\n",
        "Une régression linéaire multiple a été appliquée selon l'équation :\n",
        "\n",
        "Production = β₀ + β₁(Superficie) + β₂(Pluviométrie) + ε\n",
        "\n",
        "où :\n",
        "- β₀ représente la constante\n",
        "- β₁ et β₂ sont les coefficients de régression\n",
        "- ε représente le terme d'erreur\n",
        "\n",
        "## 3. Résultats\n",
        "\n",
        "### 3.1 Performance du Modèle\n",
        "\n",
        "Le modèle présente un coefficient de détermination (R²) de 0,80, indiquant que 80% de la variabilité de la production est expliquée par les variables indépendantes sélectionnées.\n",
        "\n",
        "### 3.2 Coefficients de Régression\n",
        "\n",
        "Les coefficients estimés sont :\n",
        "- Constante (β₀) : 32.050,86\n",
        "- Coefficient Superficie (β₁) : 0,776\n",
        "- Coefficient Pluviométrie (β₂) : -29,065\n",
        "\n",
        "### 3.3 Interprétation des Coefficients\n",
        "\n",
        "1. **Impact de la Superficie** : Pour chaque hectare supplémentaire de surface cultivée, la production augmente en moyenne de 0,776 tonnes, toutes choses égales par ailleurs.\n",
        "\n",
        "2. **Impact de la Pluviométrie** : De manière contre-intuitive, le modèle suggère un impact légèrement négatif de la pluviométrie, avec une diminution moyenne de 29,065 tonnes de production pour chaque millimètre supplémentaire de pluie.\n",
        "\n",
        "### 3.4 Prédiction pour 2023\n",
        "\n",
        "Basée sur les moyennes des cinq dernières années :\n",
        "- Superficie moyenne : 550.333 hectares\n",
        "- Pluviométrie moyenne : 740,2 mm\n",
        "- **Production prédite : 437.858 tonnes**\n",
        "\n",
        "## 4. Discussion\n",
        "\n",
        "### 4.1 Validité du Modèle\n",
        "\n",
        "Le R² de 0,80 indique une bonne capacité prédictive du modèle. Cependant, plusieurs points méritent attention :\n",
        "\n",
        "1. La relation négative observée avec la pluviométrie pourrait suggérer :\n",
        "   - Des effets de seuil non capturés par le modèle linéaire\n",
        "   - Des interactions complexes avec d'autres variables non incluses\n",
        "   - Une possible multicolinéarité entre les variables explicatives\n",
        "\n",
        "2. La prédiction pour 2023, inférieure aux dernières observations, suggère une régression vers la moyenne historique.\n",
        "\n",
        "### 4.2 Limites de l'Étude\n",
        "\n",
        "1. **Linéarité** : Le modèle suppose des relations linéaires qui pourraient ne pas refléter la complexité des interactions agro-climatiques.\n",
        "\n",
        "2. **Variables Omises** : Des facteurs importants n'ont pas été inclus :\n",
        "   - Qualité des sols\n",
        "   - Techniques agricoles employées\n",
        "   - Facteurs socio-économiques\n",
        "   - Distribution temporelle des précipitations\n",
        "\n",
        "## 5. Conclusion\n",
        "\n",
        "Cette étude fournit une prédiction quantitative de la production d'arachides au Burkina pour 2023, estimée à 437.858 tonnes. Bien que le modèle présente une bonne capacité explicative globale (R²=0,80), la prudence est recommandée dans l'interprétation des résultats, compte tenu des limites identifiées.\n",
        "\n",
        "## 6. Recommandations\n",
        "\n",
        "1. **Amélioration du Modèle** :\n",
        "   - Intégrer des variables agro-climatiques supplémentaires\n",
        "   - Explorer des relations non-linéaires\n",
        "   - Considérer des effets temporels\n",
        "\n",
        "2. **Applications Pratiques** :\n",
        "   - Utiliser ces prévisions comme un outil d'aide à la décision\n",
        "   - Combiner avec d'autres méthodes de prévision\n",
        "   - Mettre à jour régulièrement le modèle avec les nouvelles données\n",
        "\n",
        "## Références\n",
        "\n",
        "[---------------------------------------]"
      ],
      "metadata": {
        "id": "_VlnuRU99CWb"
      }
    },
    {
      "cell_type": "code",
      "source": [
        "import numpy as np\n",
        "import pandas as pd\n",
        "from sklearn.linear_model import LinearRegression\n",
        "import matplotlib.pyplot as plt\n",
        "from sklearn.metrics import r2_score"
      ],
      "metadata": {
        "id": "Q9PzcWiX2IcG"
      },
      "execution_count": 3,
      "outputs": []
    },
    {
      "cell_type": "code",
      "source": [
        "# Données\n",
        "data = {\n",
        "    'Année': [1996, 1997, 1998, 1999, 2000, 2001, 2002, 2003, 2004, 2005,\n",
        "              2006, 2007, 2008, 2009, 2010, 2011, 2012, 2013, 2014, 2015,\n",
        "              2016, 2017, 2018, 2019, 2020, 2021, 2022],\n",
        "    'Production': [180532, 220534, 152128, 214807, 282754, 169146, 301092,\n",
        "                  323642, 358121, 245307, 220525, 215447, 244922, 346292,\n",
        "                  330624, 340166, 265322, 310758, 349688, 335222, 365887,\n",
        "                  515672, 334328, 329783, 396129, 630526, 477254],\n",
        "    'Superficie': [274349, 211552, 232663, 215160, 271469, 236880, 330904,\n",
        "                  342637, 404110, 352528, 274603, 310597, 415171, 369125,\n",
        "                  458222, 409922, 388704, 397762, 448767, 375040, 432665,\n",
        "                  591873, 554832, 394031, 485703, 670798, 646303],\n",
        "    'Pluie': [671, 697, 736, 834, 689, 659, 634, 775, 670, 707,\n",
        "              684, 669, 705, 714, 773, 681, 743, 693, 746, 680,\n",
        "              711, 659, 757, 769, 723, 749, 703]\n",
        "}"
      ],
      "metadata": {
        "id": "SW0j8-z72N_n"
      },
      "execution_count": 4,
      "outputs": []
    },
    {
      "cell_type": "code",
      "source": [
        "# Création du DataFrame\n",
        "df = pd.DataFrame(data)"
      ],
      "metadata": {
        "id": "6RvOqIZG2Vd8"
      },
      "execution_count": 5,
      "outputs": []
    },
    {
      "cell_type": "code",
      "source": [
        "# Préparation des variables pour la régression\n",
        "X = df[['Superficie', 'Pluie']]\n",
        "y = df['Production']"
      ],
      "metadata": {
        "id": "B-wXkkn-2jdR"
      },
      "execution_count": 6,
      "outputs": []
    },
    {
      "cell_type": "code",
      "source": [
        "# Création et entraînement du modèle\n",
        "model = LinearRegression()\n",
        "model.fit(X, y)"
      ],
      "metadata": {
        "colab": {
          "base_uri": "https://localhost:8080/",
          "height": 80
        },
        "id": "Qs6WubHy2rR_",
        "outputId": "e9f5516c-1127-48b7-a0d4-c53882e48efc"
      },
      "execution_count": 7,
      "outputs": [
        {
          "output_type": "execute_result",
          "data": {
            "text/plain": [
              "LinearRegression()"
            ],
            "text/html": [
              "<style>#sk-container-id-1 {\n",
              "  /* Definition of color scheme common for light and dark mode */\n",
              "  --sklearn-color-text: black;\n",
              "  --sklearn-color-line: gray;\n",
              "  /* Definition of color scheme for unfitted estimators */\n",
              "  --sklearn-color-unfitted-level-0: #fff5e6;\n",
              "  --sklearn-color-unfitted-level-1: #f6e4d2;\n",
              "  --sklearn-color-unfitted-level-2: #ffe0b3;\n",
              "  --sklearn-color-unfitted-level-3: chocolate;\n",
              "  /* Definition of color scheme for fitted estimators */\n",
              "  --sklearn-color-fitted-level-0: #f0f8ff;\n",
              "  --sklearn-color-fitted-level-1: #d4ebff;\n",
              "  --sklearn-color-fitted-level-2: #b3dbfd;\n",
              "  --sklearn-color-fitted-level-3: cornflowerblue;\n",
              "\n",
              "  /* Specific color for light theme */\n",
              "  --sklearn-color-text-on-default-background: var(--sg-text-color, var(--theme-code-foreground, var(--jp-content-font-color1, black)));\n",
              "  --sklearn-color-background: var(--sg-background-color, var(--theme-background, var(--jp-layout-color0, white)));\n",
              "  --sklearn-color-border-box: var(--sg-text-color, var(--theme-code-foreground, var(--jp-content-font-color1, black)));\n",
              "  --sklearn-color-icon: #696969;\n",
              "\n",
              "  @media (prefers-color-scheme: dark) {\n",
              "    /* Redefinition of color scheme for dark theme */\n",
              "    --sklearn-color-text-on-default-background: var(--sg-text-color, var(--theme-code-foreground, var(--jp-content-font-color1, white)));\n",
              "    --sklearn-color-background: var(--sg-background-color, var(--theme-background, var(--jp-layout-color0, #111)));\n",
              "    --sklearn-color-border-box: var(--sg-text-color, var(--theme-code-foreground, var(--jp-content-font-color1, white)));\n",
              "    --sklearn-color-icon: #878787;\n",
              "  }\n",
              "}\n",
              "\n",
              "#sk-container-id-1 {\n",
              "  color: var(--sklearn-color-text);\n",
              "}\n",
              "\n",
              "#sk-container-id-1 pre {\n",
              "  padding: 0;\n",
              "}\n",
              "\n",
              "#sk-container-id-1 input.sk-hidden--visually {\n",
              "  border: 0;\n",
              "  clip: rect(1px 1px 1px 1px);\n",
              "  clip: rect(1px, 1px, 1px, 1px);\n",
              "  height: 1px;\n",
              "  margin: -1px;\n",
              "  overflow: hidden;\n",
              "  padding: 0;\n",
              "  position: absolute;\n",
              "  width: 1px;\n",
              "}\n",
              "\n",
              "#sk-container-id-1 div.sk-dashed-wrapped {\n",
              "  border: 1px dashed var(--sklearn-color-line);\n",
              "  margin: 0 0.4em 0.5em 0.4em;\n",
              "  box-sizing: border-box;\n",
              "  padding-bottom: 0.4em;\n",
              "  background-color: var(--sklearn-color-background);\n",
              "}\n",
              "\n",
              "#sk-container-id-1 div.sk-container {\n",
              "  /* jupyter's `normalize.less` sets `[hidden] { display: none; }`\n",
              "     but bootstrap.min.css set `[hidden] { display: none !important; }`\n",
              "     so we also need the `!important` here to be able to override the\n",
              "     default hidden behavior on the sphinx rendered scikit-learn.org.\n",
              "     See: https://github.com/scikit-learn/scikit-learn/issues/21755 */\n",
              "  display: inline-block !important;\n",
              "  position: relative;\n",
              "}\n",
              "\n",
              "#sk-container-id-1 div.sk-text-repr-fallback {\n",
              "  display: none;\n",
              "}\n",
              "\n",
              "div.sk-parallel-item,\n",
              "div.sk-serial,\n",
              "div.sk-item {\n",
              "  /* draw centered vertical line to link estimators */\n",
              "  background-image: linear-gradient(var(--sklearn-color-text-on-default-background), var(--sklearn-color-text-on-default-background));\n",
              "  background-size: 2px 100%;\n",
              "  background-repeat: no-repeat;\n",
              "  background-position: center center;\n",
              "}\n",
              "\n",
              "/* Parallel-specific style estimator block */\n",
              "\n",
              "#sk-container-id-1 div.sk-parallel-item::after {\n",
              "  content: \"\";\n",
              "  width: 100%;\n",
              "  border-bottom: 2px solid var(--sklearn-color-text-on-default-background);\n",
              "  flex-grow: 1;\n",
              "}\n",
              "\n",
              "#sk-container-id-1 div.sk-parallel {\n",
              "  display: flex;\n",
              "  align-items: stretch;\n",
              "  justify-content: center;\n",
              "  background-color: var(--sklearn-color-background);\n",
              "  position: relative;\n",
              "}\n",
              "\n",
              "#sk-container-id-1 div.sk-parallel-item {\n",
              "  display: flex;\n",
              "  flex-direction: column;\n",
              "}\n",
              "\n",
              "#sk-container-id-1 div.sk-parallel-item:first-child::after {\n",
              "  align-self: flex-end;\n",
              "  width: 50%;\n",
              "}\n",
              "\n",
              "#sk-container-id-1 div.sk-parallel-item:last-child::after {\n",
              "  align-self: flex-start;\n",
              "  width: 50%;\n",
              "}\n",
              "\n",
              "#sk-container-id-1 div.sk-parallel-item:only-child::after {\n",
              "  width: 0;\n",
              "}\n",
              "\n",
              "/* Serial-specific style estimator block */\n",
              "\n",
              "#sk-container-id-1 div.sk-serial {\n",
              "  display: flex;\n",
              "  flex-direction: column;\n",
              "  align-items: center;\n",
              "  background-color: var(--sklearn-color-background);\n",
              "  padding-right: 1em;\n",
              "  padding-left: 1em;\n",
              "}\n",
              "\n",
              "\n",
              "/* Toggleable style: style used for estimator/Pipeline/ColumnTransformer box that is\n",
              "clickable and can be expanded/collapsed.\n",
              "- Pipeline and ColumnTransformer use this feature and define the default style\n",
              "- Estimators will overwrite some part of the style using the `sk-estimator` class\n",
              "*/\n",
              "\n",
              "/* Pipeline and ColumnTransformer style (default) */\n",
              "\n",
              "#sk-container-id-1 div.sk-toggleable {\n",
              "  /* Default theme specific background. It is overwritten whether we have a\n",
              "  specific estimator or a Pipeline/ColumnTransformer */\n",
              "  background-color: var(--sklearn-color-background);\n",
              "}\n",
              "\n",
              "/* Toggleable label */\n",
              "#sk-container-id-1 label.sk-toggleable__label {\n",
              "  cursor: pointer;\n",
              "  display: block;\n",
              "  width: 100%;\n",
              "  margin-bottom: 0;\n",
              "  padding: 0.5em;\n",
              "  box-sizing: border-box;\n",
              "  text-align: center;\n",
              "}\n",
              "\n",
              "#sk-container-id-1 label.sk-toggleable__label-arrow:before {\n",
              "  /* Arrow on the left of the label */\n",
              "  content: \"▸\";\n",
              "  float: left;\n",
              "  margin-right: 0.25em;\n",
              "  color: var(--sklearn-color-icon);\n",
              "}\n",
              "\n",
              "#sk-container-id-1 label.sk-toggleable__label-arrow:hover:before {\n",
              "  color: var(--sklearn-color-text);\n",
              "}\n",
              "\n",
              "/* Toggleable content - dropdown */\n",
              "\n",
              "#sk-container-id-1 div.sk-toggleable__content {\n",
              "  max-height: 0;\n",
              "  max-width: 0;\n",
              "  overflow: hidden;\n",
              "  text-align: left;\n",
              "  /* unfitted */\n",
              "  background-color: var(--sklearn-color-unfitted-level-0);\n",
              "}\n",
              "\n",
              "#sk-container-id-1 div.sk-toggleable__content.fitted {\n",
              "  /* fitted */\n",
              "  background-color: var(--sklearn-color-fitted-level-0);\n",
              "}\n",
              "\n",
              "#sk-container-id-1 div.sk-toggleable__content pre {\n",
              "  margin: 0.2em;\n",
              "  border-radius: 0.25em;\n",
              "  color: var(--sklearn-color-text);\n",
              "  /* unfitted */\n",
              "  background-color: var(--sklearn-color-unfitted-level-0);\n",
              "}\n",
              "\n",
              "#sk-container-id-1 div.sk-toggleable__content.fitted pre {\n",
              "  /* unfitted */\n",
              "  background-color: var(--sklearn-color-fitted-level-0);\n",
              "}\n",
              "\n",
              "#sk-container-id-1 input.sk-toggleable__control:checked~div.sk-toggleable__content {\n",
              "  /* Expand drop-down */\n",
              "  max-height: 200px;\n",
              "  max-width: 100%;\n",
              "  overflow: auto;\n",
              "}\n",
              "\n",
              "#sk-container-id-1 input.sk-toggleable__control:checked~label.sk-toggleable__label-arrow:before {\n",
              "  content: \"▾\";\n",
              "}\n",
              "\n",
              "/* Pipeline/ColumnTransformer-specific style */\n",
              "\n",
              "#sk-container-id-1 div.sk-label input.sk-toggleable__control:checked~label.sk-toggleable__label {\n",
              "  color: var(--sklearn-color-text);\n",
              "  background-color: var(--sklearn-color-unfitted-level-2);\n",
              "}\n",
              "\n",
              "#sk-container-id-1 div.sk-label.fitted input.sk-toggleable__control:checked~label.sk-toggleable__label {\n",
              "  background-color: var(--sklearn-color-fitted-level-2);\n",
              "}\n",
              "\n",
              "/* Estimator-specific style */\n",
              "\n",
              "/* Colorize estimator box */\n",
              "#sk-container-id-1 div.sk-estimator input.sk-toggleable__control:checked~label.sk-toggleable__label {\n",
              "  /* unfitted */\n",
              "  background-color: var(--sklearn-color-unfitted-level-2);\n",
              "}\n",
              "\n",
              "#sk-container-id-1 div.sk-estimator.fitted input.sk-toggleable__control:checked~label.sk-toggleable__label {\n",
              "  /* fitted */\n",
              "  background-color: var(--sklearn-color-fitted-level-2);\n",
              "}\n",
              "\n",
              "#sk-container-id-1 div.sk-label label.sk-toggleable__label,\n",
              "#sk-container-id-1 div.sk-label label {\n",
              "  /* The background is the default theme color */\n",
              "  color: var(--sklearn-color-text-on-default-background);\n",
              "}\n",
              "\n",
              "/* On hover, darken the color of the background */\n",
              "#sk-container-id-1 div.sk-label:hover label.sk-toggleable__label {\n",
              "  color: var(--sklearn-color-text);\n",
              "  background-color: var(--sklearn-color-unfitted-level-2);\n",
              "}\n",
              "\n",
              "/* Label box, darken color on hover, fitted */\n",
              "#sk-container-id-1 div.sk-label.fitted:hover label.sk-toggleable__label.fitted {\n",
              "  color: var(--sklearn-color-text);\n",
              "  background-color: var(--sklearn-color-fitted-level-2);\n",
              "}\n",
              "\n",
              "/* Estimator label */\n",
              "\n",
              "#sk-container-id-1 div.sk-label label {\n",
              "  font-family: monospace;\n",
              "  font-weight: bold;\n",
              "  display: inline-block;\n",
              "  line-height: 1.2em;\n",
              "}\n",
              "\n",
              "#sk-container-id-1 div.sk-label-container {\n",
              "  text-align: center;\n",
              "}\n",
              "\n",
              "/* Estimator-specific */\n",
              "#sk-container-id-1 div.sk-estimator {\n",
              "  font-family: monospace;\n",
              "  border: 1px dotted var(--sklearn-color-border-box);\n",
              "  border-radius: 0.25em;\n",
              "  box-sizing: border-box;\n",
              "  margin-bottom: 0.5em;\n",
              "  /* unfitted */\n",
              "  background-color: var(--sklearn-color-unfitted-level-0);\n",
              "}\n",
              "\n",
              "#sk-container-id-1 div.sk-estimator.fitted {\n",
              "  /* fitted */\n",
              "  background-color: var(--sklearn-color-fitted-level-0);\n",
              "}\n",
              "\n",
              "/* on hover */\n",
              "#sk-container-id-1 div.sk-estimator:hover {\n",
              "  /* unfitted */\n",
              "  background-color: var(--sklearn-color-unfitted-level-2);\n",
              "}\n",
              "\n",
              "#sk-container-id-1 div.sk-estimator.fitted:hover {\n",
              "  /* fitted */\n",
              "  background-color: var(--sklearn-color-fitted-level-2);\n",
              "}\n",
              "\n",
              "/* Specification for estimator info (e.g. \"i\" and \"?\") */\n",
              "\n",
              "/* Common style for \"i\" and \"?\" */\n",
              "\n",
              ".sk-estimator-doc-link,\n",
              "a:link.sk-estimator-doc-link,\n",
              "a:visited.sk-estimator-doc-link {\n",
              "  float: right;\n",
              "  font-size: smaller;\n",
              "  line-height: 1em;\n",
              "  font-family: monospace;\n",
              "  background-color: var(--sklearn-color-background);\n",
              "  border-radius: 1em;\n",
              "  height: 1em;\n",
              "  width: 1em;\n",
              "  text-decoration: none !important;\n",
              "  margin-left: 1ex;\n",
              "  /* unfitted */\n",
              "  border: var(--sklearn-color-unfitted-level-1) 1pt solid;\n",
              "  color: var(--sklearn-color-unfitted-level-1);\n",
              "}\n",
              "\n",
              ".sk-estimator-doc-link.fitted,\n",
              "a:link.sk-estimator-doc-link.fitted,\n",
              "a:visited.sk-estimator-doc-link.fitted {\n",
              "  /* fitted */\n",
              "  border: var(--sklearn-color-fitted-level-1) 1pt solid;\n",
              "  color: var(--sklearn-color-fitted-level-1);\n",
              "}\n",
              "\n",
              "/* On hover */\n",
              "div.sk-estimator:hover .sk-estimator-doc-link:hover,\n",
              ".sk-estimator-doc-link:hover,\n",
              "div.sk-label-container:hover .sk-estimator-doc-link:hover,\n",
              ".sk-estimator-doc-link:hover {\n",
              "  /* unfitted */\n",
              "  background-color: var(--sklearn-color-unfitted-level-3);\n",
              "  color: var(--sklearn-color-background);\n",
              "  text-decoration: none;\n",
              "}\n",
              "\n",
              "div.sk-estimator.fitted:hover .sk-estimator-doc-link.fitted:hover,\n",
              ".sk-estimator-doc-link.fitted:hover,\n",
              "div.sk-label-container:hover .sk-estimator-doc-link.fitted:hover,\n",
              ".sk-estimator-doc-link.fitted:hover {\n",
              "  /* fitted */\n",
              "  background-color: var(--sklearn-color-fitted-level-3);\n",
              "  color: var(--sklearn-color-background);\n",
              "  text-decoration: none;\n",
              "}\n",
              "\n",
              "/* Span, style for the box shown on hovering the info icon */\n",
              ".sk-estimator-doc-link span {\n",
              "  display: none;\n",
              "  z-index: 9999;\n",
              "  position: relative;\n",
              "  font-weight: normal;\n",
              "  right: .2ex;\n",
              "  padding: .5ex;\n",
              "  margin: .5ex;\n",
              "  width: min-content;\n",
              "  min-width: 20ex;\n",
              "  max-width: 50ex;\n",
              "  color: var(--sklearn-color-text);\n",
              "  box-shadow: 2pt 2pt 4pt #999;\n",
              "  /* unfitted */\n",
              "  background: var(--sklearn-color-unfitted-level-0);\n",
              "  border: .5pt solid var(--sklearn-color-unfitted-level-3);\n",
              "}\n",
              "\n",
              ".sk-estimator-doc-link.fitted span {\n",
              "  /* fitted */\n",
              "  background: var(--sklearn-color-fitted-level-0);\n",
              "  border: var(--sklearn-color-fitted-level-3);\n",
              "}\n",
              "\n",
              ".sk-estimator-doc-link:hover span {\n",
              "  display: block;\n",
              "}\n",
              "\n",
              "/* \"?\"-specific style due to the `<a>` HTML tag */\n",
              "\n",
              "#sk-container-id-1 a.estimator_doc_link {\n",
              "  float: right;\n",
              "  font-size: 1rem;\n",
              "  line-height: 1em;\n",
              "  font-family: monospace;\n",
              "  background-color: var(--sklearn-color-background);\n",
              "  border-radius: 1rem;\n",
              "  height: 1rem;\n",
              "  width: 1rem;\n",
              "  text-decoration: none;\n",
              "  /* unfitted */\n",
              "  color: var(--sklearn-color-unfitted-level-1);\n",
              "  border: var(--sklearn-color-unfitted-level-1) 1pt solid;\n",
              "}\n",
              "\n",
              "#sk-container-id-1 a.estimator_doc_link.fitted {\n",
              "  /* fitted */\n",
              "  border: var(--sklearn-color-fitted-level-1) 1pt solid;\n",
              "  color: var(--sklearn-color-fitted-level-1);\n",
              "}\n",
              "\n",
              "/* On hover */\n",
              "#sk-container-id-1 a.estimator_doc_link:hover {\n",
              "  /* unfitted */\n",
              "  background-color: var(--sklearn-color-unfitted-level-3);\n",
              "  color: var(--sklearn-color-background);\n",
              "  text-decoration: none;\n",
              "}\n",
              "\n",
              "#sk-container-id-1 a.estimator_doc_link.fitted:hover {\n",
              "  /* fitted */\n",
              "  background-color: var(--sklearn-color-fitted-level-3);\n",
              "}\n",
              "</style><div id=\"sk-container-id-1\" class=\"sk-top-container\"><div class=\"sk-text-repr-fallback\"><pre>LinearRegression()</pre><b>In a Jupyter environment, please rerun this cell to show the HTML representation or trust the notebook. <br />On GitHub, the HTML representation is unable to render, please try loading this page with nbviewer.org.</b></div><div class=\"sk-container\" hidden><div class=\"sk-item\"><div class=\"sk-estimator fitted sk-toggleable\"><input class=\"sk-toggleable__control sk-hidden--visually\" id=\"sk-estimator-id-1\" type=\"checkbox\" checked><label for=\"sk-estimator-id-1\" class=\"sk-toggleable__label fitted sk-toggleable__label-arrow fitted\">&nbsp;&nbsp;LinearRegression<a class=\"sk-estimator-doc-link fitted\" rel=\"noreferrer\" target=\"_blank\" href=\"https://scikit-learn.org/1.5/modules/generated/sklearn.linear_model.LinearRegression.html\">?<span>Documentation for LinearRegression</span></a><span class=\"sk-estimator-doc-link fitted\">i<span>Fitted</span></span></label><div class=\"sk-toggleable__content fitted\"><pre>LinearRegression()</pre></div> </div></div></div></div>"
            ]
          },
          "metadata": {},
          "execution_count": 7
        }
      ]
    },
    {
      "cell_type": "code",
      "source": [
        "# Calcul du R²\n",
        "y_pred = model.predict(X)\n",
        "r2 = r2_score(y, y_pred)"
      ],
      "metadata": {
        "id": "XyYo3sop2u6u"
      },
      "execution_count": 8,
      "outputs": []
    },
    {
      "cell_type": "code",
      "source": [
        "# Affichage des coefficients et R²\n",
        "print(\"Résultats de la régression linéaire multiple :\")\n",
        "print(\"-\" * 50)\n",
        "print(f\"R² : {r2:.4f}\")\n",
        "print(\"\\nCoefficients :\")\n",
        "print(f\"Constante : {model.intercept_:.2f}\")\n",
        "print(f\"Coefficient Superficie : {model.coef_[0]:.4f}\")\n",
        "print(f\"Coefficient Pluie : {model.coef_[1]:.4f}\")"
      ],
      "metadata": {
        "colab": {
          "base_uri": "https://localhost:8080/"
        },
        "id": "jXELqp1N2ydC",
        "outputId": "b2c7f53a-05a4-4539-9f7b-7a592422dddb"
      },
      "execution_count": 9,
      "outputs": [
        {
          "output_type": "stream",
          "name": "stdout",
          "text": [
            "Résultats de la régression linéaire multiple :\n",
            "--------------------------------------------------\n",
            "R² : 0.8029\n",
            "\n",
            "Coefficients :\n",
            "Constante : 32050.86\n",
            "Coefficient Superficie : 0.7765\n",
            "Coefficient Pluie : -29.0648\n"
          ]
        }
      ]
    },
    {
      "cell_type": "code",
      "source": [
        "# Calcul des moyennes des 5 dernières années\n",
        "recent_data = df.tail(5)\n",
        "avg_superficie = recent_data['Superficie'].mean()\n",
        "avg_pluie = recent_data['Pluie'].mean()"
      ],
      "metadata": {
        "id": "ly9Pl1t_228F"
      },
      "execution_count": 10,
      "outputs": []
    },
    {
      "cell_type": "code",
      "source": [
        "# Prédiction pour 2023\n",
        "prediction_2023 = model.predict([[avg_superficie, avg_pluie]])[0]\n",
        "\n",
        "print(\"\\nPrédiction pour 2023 :\")\n",
        "print(\"-\" * 50)\n",
        "print(f\"Moyenne superficie (5 dernières années) : {avg_superficie:.2f}\")\n",
        "print(f\"Moyenne pluie (5 dernières années) : {avg_pluie:.2f}\")\n",
        "print(f\"Production prédite pour 2023 : {prediction_2023:.2f} tonnes\")"
      ],
      "metadata": {
        "colab": {
          "base_uri": "https://localhost:8080/"
        },
        "id": "EsGtaw8L27pV",
        "outputId": "a2bb6c3d-6556-48b0-f557-6c49e11095a0"
      },
      "execution_count": 11,
      "outputs": [
        {
          "output_type": "stream",
          "name": "stdout",
          "text": [
            "\n",
            "Prédiction pour 2023 :\n",
            "--------------------------------------------------\n",
            "Moyenne superficie (5 dernières années) : 550333.40\n",
            "Moyenne pluie (5 dernières années) : 740.20\n",
            "Production prédite pour 2023 : 437857.80 tonnes\n"
          ]
        },
        {
          "output_type": "stream",
          "name": "stderr",
          "text": [
            "/usr/local/lib/python3.10/dist-packages/sklearn/base.py:493: UserWarning: X does not have valid feature names, but LinearRegression was fitted with feature names\n",
            "  warnings.warn(\n"
          ]
        }
      ]
    },
    {
      "cell_type": "code",
      "source": [
        "# Création du graphique\n",
        "plt.figure(figsize=(12, 6))"
      ],
      "metadata": {
        "colab": {
          "base_uri": "https://localhost:8080/",
          "height": 53
        },
        "id": "llomwBFK2_ze",
        "outputId": "910dca2b-d970-4ff3-bd44-2469f149c830"
      },
      "execution_count": 12,
      "outputs": [
        {
          "output_type": "execute_result",
          "data": {
            "text/plain": [
              "<Figure size 1200x600 with 0 Axes>"
            ]
          },
          "metadata": {},
          "execution_count": 12
        },
        {
          "output_type": "display_data",
          "data": {
            "text/plain": [
              "<Figure size 1200x600 with 0 Axes>"
            ]
          },
          "metadata": {}
        }
      ]
    },
    {
      "cell_type": "code",
      "source": [
        "# Production réelle\n",
        "plt.plot(df['Année'], df['Production'], 'b-', label='Production réelle')"
      ],
      "metadata": {
        "colab": {
          "base_uri": "https://localhost:8080/",
          "height": 448
        },
        "id": "_kWpqwUD3Gxy",
        "outputId": "6811571c-a171-4385-f938-9826acba775b"
      },
      "execution_count": 13,
      "outputs": [
        {
          "output_type": "execute_result",
          "data": {
            "text/plain": [
              "[<matplotlib.lines.Line2D at 0x78e4c3c21690>]"
            ]
          },
          "metadata": {},
          "execution_count": 13
        },
        {
          "output_type": "display_data",
          "data": {
            "text/plain": [
              "<Figure size 640x480 with 1 Axes>"
            ],
            "image/png": "[encoded data removed]"
          },
          "metadata": {}
        }
      ]
    },
    {
      "cell_type": "code",
      "source": [
        "# Production prédite\n",
        "plt.plot(df['Année'], y_pred, 'r--', label='Production prédite')"
      ],
      "metadata": {
        "colab": {
          "base_uri": "https://localhost:8080/",
          "height": 448
        },
        "id": "pCno2rr93Kcx",
        "outputId": "714dc5b5-8b87-47bf-d217-3f557780b8be"
      },
      "execution_count": 14,
      "outputs": [
        {
          "output_type": "execute_result",
          "data": {
            "text/plain": [
              "[<matplotlib.lines.Line2D at 0x78e4c2fc79d0>]"
            ]
          },
          "metadata": {},
          "execution_count": 14
        },
        {
          "output_type": "display_data",
          "data": {
            "text/plain": [
              "<Figure size 640x480 with 1 Axes>"
            ],
            "image/png": "[encoded data removed]"
          },
          "metadata": {}
        }
      ]
    },
    {
      "cell_type": "code",
      "source": [
        "# Ajout du point de prédiction 2023\n",
        "plt.plot(2023, prediction_2023, 'go', label='Prédiction 2023', markersize=10)\n",
        "\n",
        "plt.title('Production d\\'Arachides : Historique et Prédiction')\n",
        "plt.xlabel('Année')\n",
        "plt.ylabel('Production (tonnes)')\n",
        "plt.legend()\n",
        "plt.grid(True)"
      ],
      "metadata": {
        "colab": {
          "base_uri": "https://localhost:8080/",
          "height": 472
        },
        "id": "c424HYFf3NYM",
        "outputId": "fb7dcd69-a88d-417e-ce0f-02eb0c04eb49"
      },
      "execution_count": 15,
      "outputs": [
        {
          "output_type": "display_data",
          "data": {
            "text/plain": [
              "<Figure size 640x480 with 1 Axes>"
            ],
            "image/png": "[encoded data removed]"
          },
          "metadata": {}
        }
      ]
    },
    {
      "cell_type": "code",
      "source": [
        "# Ajout des annotations pour la prédiction 2023\n",
        "plt.annotate(f'Prédiction 2023:\\n{prediction_2023:.0f} tonnes',\n",
        "             xy=(2023, prediction_2023),\n",
        "             xytext=(2023-2, prediction_2023+50000),\n",
        "             bbox=dict(boxstyle='round,pad=0.5', fc='yellow', alpha=0.5),\n",
        "             arrowprops=dict(arrowstyle='->', connectionstyle='arc3,rad=0'))\n",
        "\n",
        "plt.show()"
      ],
      "metadata": {
        "colab": {
          "base_uri": "https://localhost:8080/",
          "height": 435
        },
        "id": "9Wsv9Hrt3QRm",
        "outputId": "71657d90-606c-4c27-8d6a-35c7e2dabfe1"
      },
      "execution_count": 16,
      "outputs": [
        {
          "output_type": "display_data",
          "data": {
            "text/plain": [
              "<Figure size 640x480 with 1 Axes>"
            ],
            "image/png": "[encoded data removed]"
          },
          "metadata": {}
        }
      ]
    },
    {
      "cell_type": "code",
      "source": [
        "# Analyse de la qualité du modèle\n",
        "print(\"\\nAnalyse de la qualité du modèle :\")\n",
        "print(\"-\" * 50)\n",
        "mse = np.mean((y - y_pred) ** 2)\n",
        "rmse = np.sqrt(mse)\n",
        "mae = np.mean(np.abs(y - y_pred))\n",
        "print(f\"Erreur quadratique moyenne (RMSE) : {rmse:.2f}\")\n",
        "print(f\"Erreur absolue moyenne (MAE) : {mae:.2f}\")"
      ],
      "metadata": {
        "colab": {
          "base_uri": "https://localhost:8080/"
        },
        "id": "cAfREPvs3TMO",
        "outputId": "86a28aea-8bbf-44cc-8660-ae63e637a66f"
      },
      "execution_count": 17,
      "outputs": [
        {
          "output_type": "stream",
          "name": "stdout",
          "text": [
            "\n",
            "Analyse de la qualité du modèle :\n",
            "--------------------------------------------------\n",
            "Erreur quadratique moyenne (RMSE) : 46667.97\n",
            "Erreur absolue moyenne (MAE) : 39084.06\n"
          ]
        }
      ]
    },
    {
      "cell_type": "code",
      "execution_count": 18,
      "metadata": {
        "colab": {
          "base_uri": "https://localhost:8080/"
        },
        "id": "YgOJsSx50prQ",
        "outputId": "a867ebdb-f2f2-418b-abf6-63feff84f1c5"
      },
      "outputs": [
        {
          "output_type": "stream",
          "name": "stdout",
          "text": [
            "\n",
            "Analyse des résidus :\n",
            "--------------------------------------------------\n",
            "Moyenne des résidus : -0.00\n",
            "Écart-type des résidus : 46667.97\n"
          ]
        }
      ],
      "source": [
        "# Analyse des résidus\n",
        "residus = y - y_pred\n",
        "print(\"\\nAnalyse des résidus :\")\n",
        "print(\"-\" * 50)\n",
        "print(f\"Moyenne des résidus : {np.mean(residus):.2f}\")\n",
        "print(f\"Écart-type des résidus : {np.std(residus):.2f}\")"
      ]
    },
    {
      "cell_type": "code",
      "source": [
        "from plotly.subplots import make_subplots\n",
        "import plotly.graph_objects as go\n"
      ],
      "metadata": {
        "id": "YiUVsILz5z1N"
      },
      "execution_count": 22,
      "outputs": []
    },
    {
      "cell_type": "code",
      "source": [
        "# Création du graphique dynamique avec Plotly\n",
        "fig = make_subplots(rows=2, cols=1,\n",
        "                    subplot_titles=('Production d\\'Arachides: Historique et Prédiction',\n",
        "                                  'Analyse des Variables Explicatives'),\n",
        "                    vertical_spacing=0.15,\n",
        "                    specs=[[{\"secondary_y\": True}],\n",
        "                          [{\"secondary_y\": True}]])\n",
        "\n",
        "# Graphique principal avec production réelle et prédite\n",
        "fig.add_trace(\n",
        "    go.Scatter(x=df['Année'], y=df['Production'],\n",
        "               name='Production Réelle',\n",
        "               mode='lines+markers',\n",
        "               line=dict(color='blue')),\n",
        "    row=1, col=1\n",
        ")\n",
        "\n",
        "fig.add_trace(\n",
        "    go.Scatter(x=df['Année'], y=y_pred,\n",
        "               name='Production Prédite',\n",
        "               mode='lines',\n",
        "               line=dict(color='red', dash='dash')),\n",
        "    row=1, col=1\n",
        ")\n",
        "\n",
        "# Ajout du point de prédiction 2023\n",
        "fig.add_trace(\n",
        "    go.Scatter(x=[2023], y=[prediction_2023],\n",
        "               name='Prédiction 2023',\n",
        "               mode='markers',\n",
        "               marker=dict(color='green', size=15,\n",
        "                          symbol='star')),\n",
        "    row=1, col=1\n",
        ")\n",
        "\n",
        "# Variables explicatives (Superficie et Pluie)\n",
        "fig.add_trace(\n",
        "    go.Scatter(x=df['Année'], y=df['Superficie'],\n",
        "               name='Superficie',\n",
        "               mode='lines',\n",
        "               line=dict(color='orange')),\n",
        "    row=2, col=1\n",
        ")\n",
        "\n",
        "fig.add_trace(\n",
        "    go.Scatter(x=df['Année'], y=df['Pluie'],\n",
        "               name='Pluviométrie',\n",
        "               mode='lines',\n",
        "               line=dict(color='cyan')),\n",
        "    row=2, col=1,\n",
        "    secondary_y=True\n",
        ")\n",
        "\n",
        "# Mise en forme du graphique\n",
        "fig.update_layout(\n",
        "    title_text=\"Analyse et Prédiction de la Production d'Arachides\",\n",
        "    height=900,\n",
        "    showlegend=True,\n",
        "    hovermode='x unified',\n",
        ")\n",
        "\n",
        "# Mise à jour des axes\n",
        "fig.update_xaxes(title_text=\"Année\", row=1, col=1)\n",
        "fig.update_xaxes(title_text=\"Année\", row=2, col=1)\n",
        "fig.update_yaxes(title_text=\"Production (tonnes)\", row=1, col=1)\n",
        "fig.update_yaxes(title_text=\"Superficie (hectares)\", row=2, col=1)\n",
        "fig.update_yaxes(title_text=\"Pluviométrie (mm)\", secondary_y=True, row=2, col=1)\n",
        "\n",
        "# Ajout d'annotations pour la prédiction 2023\n",
        "fig.add_annotation(\n",
        "    x=2023, y=prediction_2023,\n",
        "    text=f\"Prédiction 2023:<br>{prediction_2023:,.0f} tonnes\",\n",
        "    showarrow=True,\n",
        "    arrowhead=1,\n",
        "    ax=40,\n",
        "    ay=-40,\n",
        "    font=dict(size=12, color=\"black\"),\n",
        "    bgcolor=\"white\",\n",
        "    bordercolor=\"black\",\n",
        "    borderwidth=1\n",
        ")\n",
        "\n",
        "# Ajouter des informations sur le modèle\n",
        "r2_score = model.score(X, y)\n",
        "fig.add_annotation(\n",
        "    xref=\"paper\", yref=\"paper\",\n",
        "    x=0.02, y=0.98,\n",
        "    text=f\"R² = {r2_score:.3f}<br>Superficie moy. = {avg_superficie:,.0f} ha<br>Pluie moy. = {avg_pluie:.1f} mm\",\n",
        "    showarrow=False,\n",
        "    font=dict(size=10),\n",
        "    bgcolor=\"white\",\n",
        "    bordercolor=\"black\",\n",
        "    borderwidth=1\n",
        ")\n",
        "\n",
        "# Configuration des interactions\n",
        "fig.update_layout(\n",
        "    hoverlabel=dict(\n",
        "        bgcolor=\"white\",\n",
        "        font_size=12,\n",
        "        font_family=\"Rockwell\"\n",
        "    )\n",
        ")\n",
        "\n",
        "# Ajouter des boutons de contrôle pour les différentes vues\n",
        "fig.update_layout(\n",
        "    updatemenus=[\n",
        "        dict(\n",
        "            type=\"buttons\",\n",
        "            direction=\"right\",\n",
        "            x=0.7,\n",
        "            y=1.2,\n",
        "            showactive=True,\n",
        "            buttons=list([\n",
        "                dict(\n",
        "                    label=\"Tout\",\n",
        "                    method=\"update\",\n",
        "                    args=[{\"visible\": [True] * len(fig.data)},\n",
        "                         {\"title\": \"Toutes les données\"}]\n",
        "                ),\n",
        "                dict(\n",
        "                    label=\"Production\",\n",
        "                    method=\"update\",\n",
        "                    args=[{\"visible\": [True, True, True, False, False]},\n",
        "                         {\"title\": \"Production d'Arachides\"}]\n",
        "                ),\n",
        "                dict(\n",
        "                    label=\"Variables\",\n",
        "                    method=\"update\",\n",
        "                    args=[{\"visible\": [False, False, False, True, True]},\n",
        "                         {\"title\": \"Variables Explicatives\"}]\n",
        "                )\n",
        "            ])\n",
        "        )\n",
        "    ]\n",
        ")\n",
        "\n",
        "# Afficher le graphique\n",
        "fig.show()\n",
        "\n",
        "# Optionnel : Sauvegarder le graphique en HTML pour le partager\n",
        "fig.write_html(\"prediction_arachides_dynamique.html\")\n",
        "\n",
        "# Afficher les statistiques du modèle\n",
        "print(\"\\nStatistiques du modèle:\")\n",
        "print(f\"R² = {r2_score:.3f}\")\n",
        "print(f\"Coefficients:\")\n",
        "print(f\"- Superficie: {model.coef_[0]:.4f}\")\n",
        "print(f\"- Pluie: {model.coef_[1]:.4f}\")\n",
        "print(f\"- Constante: {model.intercept_:.4f}\")\n",
        "print(f\"\\nPrédiction 2023: {prediction_2023:,.0f} tonnes\")"
      ],
      "metadata": {
        "colab": {
          "base_uri": "https://localhost:8080/",
          "height": 1000
        },
        "id": "Ug-hBfD449b3",
        "outputId": "e14f166f-20bb-4e0d-a9e0-dbe300132536"
      },
      "execution_count": 23,
      "outputs": [
        {
          "output_type": "display_data",
          "data": {
            "text/html": [
              "<html>\n",
              "<head><meta charset=\"utf-8\" /></head>\n",
              "<body>\n",
              "    <div>            <script src=\"https://cdnjs.cloudflare.com/ajax/libs/mathjax/2.7.5/MathJax.js?config=TeX-AMS-MML_SVG\"></script><script type=\"text/javascript\">if (window.MathJax && window.MathJax.Hub && window.MathJax.Hub.Config) {window.MathJax.Hub.Config({SVG: {font: \"STIX-Web\"}});}</script>                <script type=\"text/javascript\">window.PlotlyConfig = {MathJaxConfig: 'local'};</script>\n",
              "        <script charset=\"utf-8\" src=\"https://cdn.plot.ly/plotly-2.35.2.min.js\"></script>                <div id=\"5f48828e-2061-45e5-b5b5-4d2f8efc87d8\" class=\"plotly-graph-div\" style=\"height:900px; width:100%;\"></div>            <script type=\"text/javascript\">                                    window.PLOTLYENV=window.PLOTLYENV || {};                                    if (document.getElementById(\"5f48828e-2061-45e5-b5b5-4d2f8efc87d8\")) {                    Plotly.newPlot(                        \"5f48828e-2061-45e5-b5b5-4d2f8efc87d8\",                        [{\"line\":{\"color\":\"blue\"},\"mode\":\"lines+markers\",\"name\":\"Production Réelle\",\"x\":[1996,1997,1998,1999,2000,2001,2002,2003,2004,2005,2006,2007,2008,2009,2010,2011,2012,2013,2014,2015,2016,2017,2018,2019,2020,2021,2022],\"y\":[180532,220534,152128,214807,282754,169146,301092,323642,358121,245307,220525,215447,244922,346292,330624,340166,265322,310758,349688,335222,365887,515672,334328,329783,396129,630526,477254],\"type\":\"scatter\",\"xaxis\":\"x\",\"yaxis\":\"y\"},{\"line\":{\"color\":\"red\",\"dash\":\"dash\"},\"mode\":\"lines\",\"name\":\"Production Prédite\",\"x\":[1996,1997,1998,1999,2000,2001,2002,2003,2004,2005,2006,2007,2008,2009,2010,2011,2012,2013,2014,2015,2016,2017,2018,2019,2020,2021,2022],\"y\":[225573.81136697193,176057.76320169002,191316.42222899583,174877.41505198242,222814.39457789875,196828.8089238561,270562.808744389,275575.06910877,326359.17992815725,285231.59775831056,225393.19425348862,253777.64339079734,333930.5141183153,297915.31673345424,365382.17849495413,330552.3460308712,312275.0622185054,320761.6204754933,358825.3466135565,303496.37455183786,347339.7968470135,472472.35784423136,440862.56234517694,315655.6658932644,388173.7543206267,531139.897716783,513457.097260609],\"type\":\"scatter\",\"xaxis\":\"x\",\"yaxis\":\"y\"},{\"marker\":{\"color\":\"green\",\"size\":15,\"symbol\":\"star\"},\"mode\":\"markers\",\"name\":\"Prédiction 2023\",\"x\":[2023],\"y\":[437857.79550729203],\"type\":\"scatter\",\"xaxis\":\"x\",\"yaxis\":\"y\"},{\"line\":{\"color\":\"orange\"},\"mode\":\"lines\",\"name\":\"Superficie\",\"x\":[1996,1997,1998,1999,2000,2001,2002,2003,2004,2005,2006,2007,2008,2009,2010,2011,2012,2013,2014,2015,2016,2017,2018,2019,2020,2021,2022],\"y\":[274349,211552,232663,215160,271469,236880,330904,342637,404110,352528,274603,310597,415171,369125,458222,409922,388704,397762,448767,375040,432665,591873,554832,394031,485703,670798,646303],\"type\":\"scatter\",\"xaxis\":\"x2\",\"yaxis\":\"y3\"},{\"line\":{\"color\":\"cyan\"},\"mode\":\"lines\",\"name\":\"Pluviométrie\",\"x\":[1996,1997,1998,1999,2000,2001,2002,2003,2004,2005,2006,2007,2008,2009,2010,2011,2012,2013,2014,2015,2016,2017,2018,2019,2020,2021,2022],\"y\":[671,697,736,834,689,659,634,775,670,707,684,669,705,714,773,681,743,693,746,680,711,659,757,769,723,749,703],\"type\":\"scatter\",\"xaxis\":\"x2\",\"yaxis\":\"y4\"}],                        {\"template\":{\"data\":{\"histogram2dcontour\":[{\"type\":\"histogram2dcontour\",\"colorbar\":{\"outlinewidth\":0,\"ticks\":\"\"},\"colorscale\":[[0.0,\"#0d0887\"],[0.1111111111111111,\"#46039f\"],[0.2222222222222222,\"#7201a8\"],[0.3333333333333333,\"#9c179e\"],[0.4444444444444444,\"#bd3786\"],[0.5555555555555556,\"#d8576b\"],[0.6666666666666666,\"#ed7953\"],[0.7777777777777778,\"#fb9f3a\"],[0.8888888888888888,\"#fdca26\"],[1.0,\"#f0f921\"]]}],\"choropleth\":[{\"type\":\"choropleth\",\"colorbar\":{\"outlinewidth\":0,\"ticks\":\"\"}}],\"histogram2d\":[{\"type\":\"histogram2d\",\"colorbar\":{\"outlinewidth\":0,\"ticks\":\"\"},\"colorscale\":[[0.0,\"#0d0887\"],[0.1111111111111111,\"#46039f\"],[0.2222222222222222,\"#7201a8\"],[0.3333333333333333,\"#9c179e\"],[0.4444444444444444,\"#bd3786\"],[0.5555555555555556,\"#d8576b\"],[0.6666666666666666,\"#ed7953\"],[0.7777777777777778,\"#fb9f3a\"],[0.8888888888888888,\"#fdca26\"],[1.0,\"#f0f921\"]]}],\"heatmap\":[{\"type\":\"heatmap\",\"colorbar\":{\"outlinewidth\":0,\"ticks\":\"\"},\"colorscale\":[[0.0,\"#0d0887\"],[0.1111111111111111,\"#46039f\"],[0.2222222222222222,\"#7201a8\"],[0.3333333333333333,\"#9c179e\"],[0.4444444444444444,\"#bd3786\"],[0.5555555555555556,\"#d8576b\"],[0.6666666666666666,\"#ed7953\"],[0.7777777777777778,\"#fb9f3a\"],[0.8888888888888888,\"#fdca26\"],[1.0,\"#f0f921\"]]}],\"heatmapgl\":[{\"type\":\"heatmapgl\",\"colorbar\":{\"outlinewidth\":0,\"ticks\":\"\"},\"colorscale\":[[0.0,\"#0d0887\"],[0.1111111111111111,\"#46039f\"],[0.2222222222222222,\"#7201a8\"],[0.3333333333333333,\"#9c179e\"],[0.4444444444444444,\"#bd3786\"],[0.5555555555555556,\"#d8576b\"],[0.6666666666666666,\"#ed7953\"],[0.7777777777777778,\"#fb9f3a\"],[0.8888888888888888,\"#fdca26\"],[1.0,\"#f0f921\"]]}],\"contourcarpet\":[{\"type\":\"contourcarpet\",\"colorbar\":{\"outlinewidth\":0,\"ticks\":\"\"}}],\"contour\":[{\"type\":\"contour\",\"colorbar\":{\"outlinewidth\":0,\"ticks\":\"\"},\"colorscale\":[[0.0,\"#0d0887\"],[0.1111111111111111,\"#46039f\"],[0.2222222222222222,\"#7201a8\"],[0.3333333333333333,\"#9c179e\"],[0.4444444444444444,\"#bd3786\"],[0.5555555555555556,\"#d8576b\"],[0.6666666666666666,\"#ed7953\"],[0.7777777777777778,\"#fb9f3a\"],[0.8888888888888888,\"#fdca26\"],[1.0,\"#f0f921\"]]}],\"surface\":[{\"type\":\"surface\",\"colorbar\":{\"outlinewidth\":0,\"ticks\":\"\"},\"colorscale\":[[0.0,\"#0d0887\"],[0.1111111111111111,\"#46039f\"],[0.2222222222222222,\"#7201a8\"],[0.3333333333333333,\"#9c179e\"],[0.4444444444444444,\"#bd3786\"],[0.5555555555555556,\"#d8576b\"],[0.6666666666666666,\"#ed7953\"],[0.7777777777777778,\"#fb9f3a\"],[0.8888888888888888,\"#fdca26\"],[1.0,\"#f0f921\"]]}],\"mesh3d\":[{\"type\":\"mesh3d\",\"colorbar\":{\"outlinewidth\":0,\"ticks\":\"\"}}],\"scatter\":[{\"fillpattern\":{\"fillmode\":\"overlay\",\"size\":10,\"solidity\":0.2},\"type\":\"scatter\"}],\"parcoords\":[{\"type\":\"parcoords\",\"line\":{\"colorbar\":{\"outlinewidth\":0,\"ticks\":\"\"}}}],\"scatterpolargl\":[{\"type\":\"scatterpolargl\",\"marker\":{\"colorbar\":{\"outlinewidth\":0,\"ticks\":\"\"}}}],\"bar\":[{\"error_x\":{\"color\":\"#2a3f5f\"},\"error_y\":{\"color\":\"#2a3f5f\"},\"marker\":{\"line\":{\"color\":\"#E5ECF6\",\"width\":0.5},\"pattern\":{\"fillmode\":\"overlay\",\"size\":10,\"solidity\":0.2}},\"type\":\"bar\"}],\"scattergeo\":[{\"type\":\"scattergeo\",\"marker\":{\"colorbar\":{\"outlinewidth\":0,\"ticks\":\"\"}}}],\"scatterpolar\":[{\"type\":\"scatterpolar\",\"marker\":{\"colorbar\":{\"outlinewidth\":0,\"ticks\":\"\"}}}],\"histogram\":[{\"marker\":{\"pattern\":{\"fillmode\":\"overlay\",\"size\":10,\"solidity\":0.2}},\"type\":\"histogram\"}],\"scattergl\":[{\"type\":\"scattergl\",\"marker\":{\"colorbar\":{\"outlinewidth\":0,\"ticks\":\"\"}}}],\"scatter3d\":[{\"type\":\"scatter3d\",\"line\":{\"colorbar\":{\"outlinewidth\":0,\"ticks\":\"\"}},\"marker\":{\"colorbar\":{\"outlinewidth\":0,\"ticks\":\"\"}}}],\"scattermapbox\":[{\"type\":\"scattermapbox\",\"marker\":{\"colorbar\":{\"outlinewidth\":0,\"ticks\":\"\"}}}],\"scatterternary\":[{\"type\":\"scatterternary\",\"marker\":{\"colorbar\":{\"outlinewidth\":0,\"ticks\":\"\"}}}],\"scattercarpet\":[{\"type\":\"scattercarpet\",\"marker\":{\"colorbar\":{\"outlinewidth\":0,\"ticks\":\"\"}}}],\"carpet\":[{\"aaxis\":{\"endlinecolor\":\"#2a3f5f\",\"gridcolor\":\"white\",\"linecolor\":\"white\",\"minorgridcolor\":\"white\",\"startlinecolor\":\"#2a3f5f\"},\"baxis\":{\"endlinecolor\":\"#2a3f5f\",\"gridcolor\":\"white\",\"linecolor\":\"white\",\"minorgridcolor\":\"white\",\"startlinecolor\":\"#2a3f5f\"},\"type\":\"carpet\"}],\"table\":[{\"cells\":{\"fill\":{\"color\":\"#EBF0F8\"},\"line\":{\"color\":\"white\"}},\"header\":{\"fill\":{\"color\":\"#C8D4E3\"},\"line\":{\"color\":\"white\"}},\"type\":\"table\"}],\"barpolar\":[{\"marker\":{\"line\":{\"color\":\"#E5ECF6\",\"width\":0.5},\"pattern\":{\"fillmode\":\"overlay\",\"size\":10,\"solidity\":0.2}},\"type\":\"barpolar\"}],\"pie\":[{\"automargin\":true,\"type\":\"pie\"}]},\"layout\":{\"autotypenumbers\":\"strict\",\"colorway\":[\"#636efa\",\"#EF553B\",\"#00cc96\",\"#ab63fa\",\"#FFA15A\",\"#19d3f3\",\"#FF6692\",\"#B6E880\",\"#FF97FF\",\"#FECB52\"],\"font\":{\"color\":\"#2a3f5f\"},\"hovermode\":\"closest\",\"hoverlabel\":{\"align\":\"left\"},\"paper_bgcolor\":\"white\",\"plot_bgcolor\":\"#E5ECF6\",\"polar\":{\"bgcolor\":\"#E5ECF6\",\"angularaxis\":{\"gridcolor\":\"white\",\"linecolor\":\"white\",\"ticks\":\"\"},\"radialaxis\":{\"gridcolor\":\"white\",\"linecolor\":\"white\",\"ticks\":\"\"}},\"ternary\":{\"bgcolor\":\"#E5ECF6\",\"aaxis\":{\"gridcolor\":\"white\",\"linecolor\":\"white\",\"ticks\":\"\"},\"baxis\":{\"gridcolor\":\"white\",\"linecolor\":\"white\",\"ticks\":\"\"},\"caxis\":{\"gridcolor\":\"white\",\"linecolor\":\"white\",\"ticks\":\"\"}},\"coloraxis\":{\"colorbar\":{\"outlinewidth\":0,\"ticks\":\"\"}},\"colorscale\":{\"sequential\":[[0.0,\"#0d0887\"],[0.1111111111111111,\"#46039f\"],[0.2222222222222222,\"#7201a8\"],[0.3333333333333333,\"#9c179e\"],[0.4444444444444444,\"#bd3786\"],[0.5555555555555556,\"#d8576b\"],[0.6666666666666666,\"#ed7953\"],[0.7777777777777778,\"#fb9f3a\"],[0.8888888888888888,\"#fdca26\"],[1.0,\"#f0f921\"]],\"sequentialminus\":[[0.0,\"#0d0887\"],[0.1111111111111111,\"#46039f\"],[0.2222222222222222,\"#7201a8\"],[0.3333333333333333,\"#9c179e\"],[0.4444444444444444,\"#bd3786\"],[0.5555555555555556,\"#d8576b\"],[0.6666666666666666,\"#ed7953\"],[0.7777777777777778,\"#fb9f3a\"],[0.8888888888888888,\"#fdca26\"],[1.0,\"#f0f921\"]],\"diverging\":[[0,\"#8e0152\"],[0.1,\"#c51b7d\"],[0.2,\"#de77ae\"],[0.3,\"#f1b6da\"],[0.4,\"#fde0ef\"],[0.5,\"#f7f7f7\"],[0.6,\"#e6f5d0\"],[0.7,\"#b8e186\"],[0.8,\"#7fbc41\"],[0.9,\"#4d9221\"],[1,\"#276419\"]]},\"xaxis\":{\"gridcolor\":\"white\",\"linecolor\":\"white\",\"ticks\":\"\",\"title\":{\"standoff\":15},\"zerolinecolor\":\"white\",\"automargin\":true,\"zerolinewidth\":2},\"yaxis\":{\"gridcolor\":\"white\",\"linecolor\":\"white\",\"ticks\":\"\",\"title\":{\"standoff\":15},\"zerolinecolor\":\"white\",\"automargin\":true,\"zerolinewidth\":2},\"scene\":{\"xaxis\":{\"backgroundcolor\":\"#E5ECF6\",\"gridcolor\":\"white\",\"linecolor\":\"white\",\"showbackground\":true,\"ticks\":\"\",\"zerolinecolor\":\"white\",\"gridwidth\":2},\"yaxis\":{\"backgroundcolor\":\"#E5ECF6\",\"gridcolor\":\"white\",\"linecolor\":\"white\",\"showbackground\":true,\"ticks\":\"\",\"zerolinecolor\":\"white\",\"gridwidth\":2},\"zaxis\":{\"backgroundcolor\":\"#E5ECF6\",\"gridcolor\":\"white\",\"linecolor\":\"white\",\"showbackground\":true,\"ticks\":\"\",\"zerolinecolor\":\"white\",\"gridwidth\":2}},\"shapedefaults\":{\"line\":{\"color\":\"#2a3f5f\"}},\"annotationdefaults\":{\"arrowcolor\":\"#2a3f5f\",\"arrowhead\":0,\"arrowwidth\":1},\"geo\":{\"bgcolor\":\"white\",\"landcolor\":\"#E5ECF6\",\"subunitcolor\":\"white\",\"showland\":true,\"showlakes\":true,\"lakecolor\":\"white\"},\"title\":{\"x\":0.05},\"mapbox\":{\"style\":\"light\"}}},\"xaxis\":{\"anchor\":\"y\",\"domain\":[0.0,0.94],\"title\":{\"text\":\"Année\"}},\"yaxis\":{\"anchor\":\"x\",\"domain\":[0.575,1.0],\"title\":{\"text\":\"Production (tonnes)\"}},\"yaxis2\":{\"anchor\":\"x\",\"overlaying\":\"y\",\"side\":\"right\",\"title\":{\"text\":\"Production (tonnes)\"}},\"xaxis2\":{\"anchor\":\"y3\",\"domain\":[0.0,0.94],\"title\":{\"text\":\"Année\"}},\"yaxis3\":{\"anchor\":\"x2\",\"domain\":[0.0,0.425],\"title\":{\"text\":\"Superficie (hectares)\"}},\"yaxis4\":{\"anchor\":\"x2\",\"overlaying\":\"y3\",\"side\":\"right\",\"title\":{\"text\":\"Pluviométrie (mm)\"}},\"annotations\":[{\"font\":{\"size\":16},\"showarrow\":false,\"text\":\"Production d'Arachides: Historique et Prédiction\",\"x\":0.47,\"xanchor\":\"center\",\"xref\":\"paper\",\"y\":1.0,\"yanchor\":\"bottom\",\"yref\":\"paper\"},{\"font\":{\"size\":16},\"showarrow\":false,\"text\":\"Analyse des Variables Explicatives\",\"x\":0.47,\"xanchor\":\"center\",\"xref\":\"paper\",\"y\":0.425,\"yanchor\":\"bottom\",\"yref\":\"paper\"},{\"arrowhead\":1,\"ax\":40,\"ay\":-40,\"bgcolor\":\"white\",\"bordercolor\":\"black\",\"borderwidth\":1,\"font\":{\"color\":\"black\",\"size\":12},\"showarrow\":true,\"text\":\"Prédiction 2023:\\u003cbr\\u003e437,858 tonnes\",\"x\":2023,\"y\":437857.79550729203},{\"bgcolor\":\"white\",\"bordercolor\":\"black\",\"borderwidth\":1,\"font\":{\"size\":10},\"showarrow\":false,\"text\":\"R² = 0.803\\u003cbr\\u003eSuperficie moy. = 550,333 ha\\u003cbr\\u003ePluie moy. = 740.2 mm\",\"x\":0.02,\"xref\":\"paper\",\"y\":0.98,\"yref\":\"paper\"}],\"title\":{\"text\":\"Analyse et Prédiction de la Production d'Arachides\"},\"height\":900,\"showlegend\":true,\"hovermode\":\"x unified\",\"hoverlabel\":{\"font\":{\"size\":12,\"family\":\"Rockwell\"},\"bgcolor\":\"white\"},\"updatemenus\":[{\"buttons\":[{\"args\":[{\"visible\":[true,true,true,true,true]},{\"title\":\"Toutes les données\"}],\"label\":\"Tout\",\"method\":\"update\"},{\"args\":[{\"visible\":[true,true,true,false,false]},{\"title\":\"Production d'Arachides\"}],\"label\":\"Production\",\"method\":\"update\"},{\"args\":[{\"visible\":[false,false,false,true,true]},{\"title\":\"Variables Explicatives\"}],\"label\":\"Variables\",\"method\":\"update\"}],\"direction\":\"right\",\"showactive\":true,\"type\":\"buttons\",\"x\":0.7,\"y\":1.2}]},                        {\"responsive\": true}                    ).then(function(){\n",
              "                            \n",
              "var gd = document.getElementById('5f48828e-2061-45e5-b5b5-4d2f8efc87d8');\n",
              "var x = new MutationObserver(function (mutations, observer) {{\n",
              "        var display = window.getComputedStyle(gd).display;\n",
              "        if (!display || display === 'none') {{\n",
              "            console.log([gd, 'removed!']);\n",
              "            Plotly.purge(gd);\n",
              "            observer.disconnect();\n",
              "        }}\n",
              "}});\n",
              "\n",
              "// Listen for the removal of the full notebook cells\n",
              "var notebookContainer = gd.closest('#notebook-container');\n",
              "if (notebookContainer) {{\n",
              "    x.observe(notebookContainer, {childList: true});\n",
              "}}\n",
              "\n",
              "// Listen for the clearing of the current output cell\n",
              "var outputEl = gd.closest('.output');\n",
              "if (outputEl) {{\n",
              "    x.observe(outputEl, {childList: true});\n",
              "}}\n",
              "\n",
              "                        })                };                            </script>        </div>\n",
              "</body>\n",
              "</html>"
            ]
          },
          "metadata": {}
        },
        {
          "output_type": "stream",
          "name": "stdout",
          "text": [
            "\n",
            "Statistiques du modèle:\n",
            "R² = 0.803\n",
            "Coefficients:\n",
            "- Superficie: 0.7765\n",
            "- Pluie: -29.0648\n",
            "- Constante: 32050.8552\n",
            "\n",
            "Prédiction 2023: 437,858 tonnes\n"
          ]
        }
      ]
    },
    {
      "cell_type": "code",
      "source": [],
      "metadata": {
        "id": "ZC8p-6y-2GIl"
      },
      "execution_count": null,
      "outputs": []
    }
  ]
}