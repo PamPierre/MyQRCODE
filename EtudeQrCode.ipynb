{
  "nbformat": 4,
  "nbformat_minor": 0,
  "metadata": {
    "colab": {
      "provenance": [],
      "gpuType": "T4",
      "include_colab_link": true
    },
    "kernelspec": {
      "name": "python3",
      "display_name": "Python 3"
    },
    "language_info": {
      "name": "python"
    },
    "accelerator": "GPU"
  },
  "cells": [
    {
      "cell_type": "markdown",
      "metadata": {
        "id": "view-in-github",
        "colab_type": "text"
      },
      "source": [
        "<a href=\"https://colab.research.google.com/github/PamPierre/MyQRCODE/blob/devOctobre/EtudeQrCode.ipynb\" target=\"_parent\"><img src=\"https://colab.research.google.com/assets/colab-badge.svg\" alt=\"Open In Colab\"/></a>"
      ]
    },
    {
      "cell_type": "code",
      "source": [
        "!pip install stop-words"
      ],
      "metadata": {
        "id": "9vCxBJQiYp4Q",
        "outputId": "bee123ea-21d0-4d0d-e5ed-74003ce459f4",
        "colab": {
          "base_uri": "https://localhost:8080/"
        }
      },
      "execution_count": 31,
      "outputs": [
        {
          "output_type": "stream",
          "name": "stdout",
          "text": [
            "Collecting stop-words\n",
            "  Downloading stop-words-2018.7.23.tar.gz (31 kB)\n",
            "  Preparing metadata (setup.py) ... \u001b[?25l\u001b[?25hdone\n",
            "Building wheels for collected packages: stop-words\n",
            "  Building wheel for stop-words (setup.py) ... \u001b[?25l\u001b[?25hdone\n",
            "  Created wheel for stop-words: filename=stop_words-2018.7.23-py3-none-any.whl size=32894 sha256=2112957d05eb9026d239ccb782a11ca7c63701966f2dafec3e80d674f1ecf598\n",
            "  Stored in directory: /root/.cache/pip/wheels/d0/1a/23/f12552a50cb09bcc1694a5ebb6c2cd5f2a0311de2b8c3d9a89\n",
            "Successfully built stop-words\n",
            "Installing collected packages: stop-words\n",
            "Successfully installed stop-words-2018.7.23\n"
          ]
        }
      ]
    },
    {
      "cell_type": "code",
      "execution_count": 32,
      "metadata": {
        "id": "8HnhLNNSRalC"
      },
      "outputs": [],
      "source": [
        "import pandas as pd\n",
        "from stop_words import get_stop_words\n",
        "from collections import Counter\n",
        "from nltk.util import bigrams\n",
        "frst = get_stop_words('fr')\n",
        "df = pd.read_csv(\"/content/Etude sur l'utilisation des QR CODES (réponses) - Réponses au formulaire 1.csv\")"
      ]
    },
    {
      "cell_type": "code",
      "source": [
        "df1 = df[[\"(Optionnel)\\nQue pensez vous de l’accès aux services de vos restaurateurs locaux?\",\"(Optionnel)\\nQuels solutions technologique pourraient permettre de rendre le service de restauration le plus accessible avec un temps d\\'attente très bas possible?\"]]"
      ],
      "metadata": {
        "id": "Yq9vMLzFUDK-"
      },
      "execution_count": 40,
      "outputs": []
    },
    {
      "cell_type": "code",
      "source": [
        "df1 = df1.rename(columns={\"(Optionnel)\\nQue pensez vous de l’accès aux services de vos restaurateurs locaux?\" : \"optional1\",\"(Optionnel)\\nQuels solutions technologique pourraient permettre de rendre le service de restauration le plus accessible avec un temps d\\'attente très bas possible?\" : \"optional2\"})"
      ],
      "metadata": {
        "id": "LYseUgTtUEC0"
      },
      "execution_count": 41,
      "outputs": []
    },
    {
      "cell_type": "code",
      "source": [
        "import string\n",
        "import unicodedata\n",
        "def remove_punctuation(text):\n",
        "    text = str(text).strip().lower().replace(\n",
        "        \"/\", \" \").replace(\"-\", \" \").replace(\n",
        "        \"&\", \" \").replace(\"'\", \" \").replace(\n",
        "        \"b2b\", \"btob\").replace(\"b2c\", \"btoc\")\n",
        "\n",
        "    stopwords = frst\n",
        "    text = \"\".join([word for word in text if\n",
        "                    word not in string.punctuation and not word.isdigit()])  # On cheque ici caractère par caractère\n",
        "    punctuationfree = \" \".join([word for word in text.split() if word not in stopwords and len(\n",
        "        word) > 1 and word.isalpha()])  # On cheque ici mot par mot\n",
        "    return strip_accents(punctuationfree)\n",
        "\n",
        "def strip_accents(s):\n",
        "    \"\"\"Function to remove accents in a python unicode \"\"\"\n",
        "    return ''.join(c for c in unicodedata.normalize('NFD', s)\n",
        "                   if unicodedata.category(c) != 'Mn')\n",
        "\n",
        "df1[\"optional1\"] = df1[\"optional1\"].apply(remove_punctuation)\n",
        "df1[\"optional2\"] = df1[\"optional2\"].apply(remove_punctuation)\n"
      ],
      "metadata": {
        "id": "MymDHed7Y3dc"
      },
      "execution_count": 76,
      "outputs": []
    },
    {
      "cell_type": "code",
      "source": [
        "def returnSet(text):\n",
        "  w = list(set(text))\n",
        "  if len(w)>1:\n",
        "    return f'{w[0]} {w[1]}'\n",
        "  return w[0]"
      ],
      "metadata": {
        "id": "AvlH0RBIqUe1"
      },
      "execution_count": 109,
      "outputs": []
    },
    {
      "cell_type": "code",
      "source": [
        "op1 = [w.replace(\"applications\",\"application\").replace(\"presence\",\"present\").replace(\"presents\",\"present\").replace(\"services\",\"service\").replace(\"connecter\",\"internet\").replace(\"connexion\",\"internet\").replace(\"clientele\",\"client\").replace(\"clients\",\"client\").replace(\"cible\",\"client\").replace(\"attendre\",\"attente\").replace(\"smartphone\",\"mobile\").replace(\"telephone\",\"mobile\").replace(\"web\",\"internet\").replace(\"codes\",\"code\").replace(\"qr code\",\"qrcode\").replace(\"code qr\",\"qrcode\").replace(\"mobiles\",\"mobile\").replace(\" lien \",\" internet \").replace(\" ligne\",\" internet\").replace(\"commander\",\"commande\").replace(\"commandes\",\"commande\").replace(\"accessible\",\"acces\").replace(\"ameliorez\",\"ameliorer\") for w in df1[\"optional1\"].values.tolist() if str(w).lower()!='nan']\n",
        "op2 = [w.replace(\"applications\",\"application\").replace(\"presence\",\"present\").replace(\"presents\",\"present\").replace(\"services\",\"service\").replace(\"connecter\",\"internet\").replace(\"connexion\",\"internet\").replace(\"clientele\",\"client\").replace(\"clients\",\"client\").replace(\"cible\",\"client\").replace(\"attendre\",\"attente\").replace(\"smartphone\",\"mobile\").replace(\"telephone\",\"mobile\").replace(\"web\",\"internet\").replace(\"codes\",\"code\").replace(\"qr code\",\"qrcode\").replace(\"code qr\",\"qrcode\").replace(\"mobiles\",\"mobile\").replace(\" lien \",\" internet \").replace(\" ligne\",\" internet\").replace(\"commander\",\"commande\").replace(\"commandes\",\"commande\").replace(\"accessible\",\"acces\").replace(\"ameliorez\",\"ameliorer\") for w in df1[\"optional2\"].values.tolist() if str(w).lower()!='nan']\n",
        "bg1 = [returnSet(w) for w in list(bigrams(' '.join(op1).split()))]\n",
        "bg2 = [returnSet(w) for w in list(bigrams(' '.join(op2).split()))]"
      ],
      "metadata": {
        "id": "yFii9tGxU4VW"
      },
      "execution_count": 110,
      "outputs": []
    },
    {
      "cell_type": "code",
      "source": [
        "'qrcode'\n",
        "'qr code'\n",
        "'qr codes'"
      ],
      "metadata": {
        "id": "2fuR4EpTicym"
      },
      "execution_count": 83,
      "outputs": []
    },
    {
      "cell_type": "markdown",
      "source": [],
      "metadata": {
        "id": "wpPvYqWIlaO5"
      }
    },
    {
      "cell_type": "code",
      "source": [
        "# Pour un seul mot\n",
        "allWord = Counter(' '.join(op1).split())\n",
        "dicoSorted = dict(sorted(allWord.items(), key=lambda x : x[1], reverse = True)) # <== Ordonne par nombre d'occurance\n",
        "result = {k : v for k,v in dicoSorted.items() if v>1}\n",
        "result = {k : round((v/sum(result.values()))*100,1) for k,v in dicoSorted.items() if v>1}\n"
      ],
      "metadata": {
        "id": "N_z7uXZPXle3"
      },
      "execution_count": 170,
      "outputs": []
    },
    {
      "cell_type": "code",
      "source": [
        "resultBi = pd.DataFrame.from_records({'Mot clefs': result.keys(), 'taux de couverture': result.values()})\n",
        "resultBi.to_csv(\"ResultatOptional1TransformationByKeywords.csv\")"
      ],
      "metadata": {
        "id": "Y_WF_jclubQP"
      },
      "execution_count": 171,
      "outputs": []
    },
    {
      "cell_type": "code",
      "source": [
        "# Pour un bigramme\n",
        "allWord = Counter(bg2)\n",
        "dicoSorted = dict(sorted(allWord.items(), key=lambda x : x[1], reverse = True)[:20]) # <== Ordonne par nombre d'occurance et l'on selectionne le top 20\n",
        "result = {k : v for k,v in dicoSorted.items()}\n",
        "result = {k : round((v/sum(result.values()))*100,1) for k,v in dicoSorted.items()}\n",
        "result"
      ],
      "metadata": {
        "id": "aj0FxTPHpocp",
        "outputId": "972eca08-f04b-4fc3-9e8e-7e2638875a36",
        "colab": {
          "base_uri": "https://localhost:8080/"
        }
      },
      "execution_count": 168,
      "outputs": [
        {
          "output_type": "execute_result",
          "data": {
            "text/plain": [
              "{'commande internet': 12.1,\n",
              " 'commande distance': 9.1,\n",
              " 'paiement mobile': 6.1,\n",
              " 'client restaurant': 6.1,\n",
              " 'mobile money': 6.1,\n",
              " 'mobile acces': 6.1,\n",
              " 'qrcode internet': 6.1,\n",
              " 'lancer possibilite': 6.1,\n",
              " 'commande lancer': 6.1,\n",
              " 'ordre numeros': 6.1,\n",
              " 'acces internet': 3.0,\n",
              " 'permettre internet': 3.0,\n",
              " 'commande permettre': 3.0,\n",
              " 'internet afin': 3.0,\n",
              " 'reduire afin': 3.0,\n",
              " 'delais reduire': 3.0,\n",
              " 'delais attente': 3.0,\n",
              " 'geolocalisationmenu attente': 3.0,\n",
              " 'geolocalisationmenu internet': 3.0,\n",
              " 'paiement distance': 3.0}"
            ]
          },
          "metadata": {},
          "execution_count": 168
        }
      ]
    },
    {
      "cell_type": "code",
      "source": [],
      "metadata": {
        "id": "tjfQBrgFspyE"
      },
      "execution_count": 132,
      "outputs": []
    },
    {
      "cell_type": "code",
      "source": [
        "resultBi = pd.DataFrame.from_records({'Bigrammes': result.keys(), 'taux de couverture': result.values()})\n",
        "resultBi.to_csv(\"ResultatOptional2TransformationTop20.csv\")"
      ],
      "metadata": {
        "id": "J_rWtTD0tv3k"
      },
      "execution_count": 169,
      "outputs": []
    },
    {
      "cell_type": "markdown",
      "source": [
        "# **Conclusion pour le champs optionel 1**\n",
        "\n",
        "\n",
        "1.   Expressions les plus utilisé :\n",
        "  **Assez bien**(1.85%) et ils ont un accesimmediat au service de restaurations et **Souvent difficile** = 1.23% n'ont jamais vue de QR code dans les restautants de la localié\n",
        "\n",
        "2.   Élément de liste\n",
        "\n"
      ],
      "metadata": {
        "id": "Xd8HwiyReSeq"
      }
    },
    {
      "cell_type": "code",
      "source": [],
      "metadata": {
        "id": "OGsUa1AbbMwa",
        "outputId": "688de3c2-8d84-457e-931f-28d2f8a65a9d",
        "colab": {
          "base_uri": "https://localhost:8080/"
        }
      },
      "execution_count": 68,
      "outputs": [
        {
          "output_type": "execute_result",
          "data": {
            "text/plain": [
              "array(['acces souvent difficile moment certains agents restaurants formes',\n",
              "       'souvent difficile'], dtype=object)"
            ]
          },
          "metadata": {},
          "execution_count": 68
        }
      ]
    },
    {
      "cell_type": "code",
      "source": [],
      "metadata": {
        "id": "6yZ68YdAdPpr"
      },
      "execution_count": null,
      "outputs": []
    }
  ]
}